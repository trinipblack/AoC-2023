{
 "cells": [
  {
   "cell_type": "markdown",
   "metadata": {},
   "source": [
    "# DAY 4"
   ]
  },
  {
   "cell_type": "markdown",
   "metadata": {},
   "source": [
    "## --- Day 4: Scratchcards ---\n",
    "The gondola takes you up. Strangely, though, the ground doesn't seem to be coming with you; you're not climbing a mountain. As the circle of Snow Island recedes below you, an entire new landmass suddenly appears above you! The gondola carries you to the surface of the new island and lurches into the station.\n",
    "\n",
    "As you exit the gondola, the first thing you notice is that the air here is much warmer than it was on Snow Island. It's also quite humid. Is this where the water source is?\n",
    "\n",
    "The next thing you notice is an Elf sitting on the floor across the station in what seems to be a pile of colorful square cards.\n",
    "\n",
    "\"Oh! Hello!\" The Elf excitedly runs over to you. \"How may I be of service?\" You ask about water sources.\n",
    "\n",
    "\"I'm not sure; I just operate the gondola lift. That does sound like something we'd have, though - this is Island Island, after all! I bet the gardener would know. He's on a different island, though - er, the small kind surrounded by water, not the floating kind. We really need to come up with a better naming scheme. Tell you what: if you can help me with something quick, I'll let you borrow my boat and you can go visit the gardener. I got all these scratchcards as a gift, but I can't figure out what I've won.\"\n",
    "\n",
    "The Elf leads you over to the pile of colorful cards. There, you discover dozens of scratchcards, all with their opaque covering already scratched off. Picking one up, it looks like each card has two lists of numbers separated by a vertical bar (|): a list of winning numbers and then a list of numbers you have. You organize the information into a table (your puzzle input).\n",
    "\n",
    "As far as the Elf has been able to figure out, you have to figure out which of the numbers you have appear in the list of winning numbers. The first match makes the card worth one point and each match after the first doubles the point value of that card.\n",
    "\n",
    "For example:\n",
    "\n",
    "```python\n",
    "Card 1: 41 48 83 86 17 | 83 86  6 31 17  9 48 53\n",
    "Card 2: 13 32 20 16 61 | 61 30 68 82 17 32 24 19\n",
    "Card 3:  1 21 53 59 44 | 69 82 63 72 16 21 14  1\n",
    "Card 4: 41 92 73 84 69 | 59 84 76 51 58  5 54 83\n",
    "Card 5: 87 83 26 28 32 | 88 30 70 12 93 22 82 36\n",
    "Card 6: 31 18 13 56 72 | 74 77 10 23 35 67 36 11\n",
    "```\n",
    "\n",
    "In the above example, card 1 has five winning numbers (41, 48, 83, 86, and 17) and eight numbers you have (83, 86, 6, 31, 17, 9, 48, and 53). Of the numbers you have, four of them (48, 83, 17, and 86) are winning numbers! That means card 1 is worth 8 points (1 for the first match, then doubled three times for each of the three matches after the first).\n",
    "\n",
    "```python\n",
    "Card 2 has two winning numbers (32 and 61), so it is worth 2 points.\n",
    "Card 3 has two winning numbers (1 and 21), so it is worth 2 points.\n",
    "Card 4 has one winning number (84), so it is worth 1 point.\n",
    "Card 5 has no winning numbers, so it is worth no points.\n",
    "Card 6 has no winning numbers, so it is worth no points.\n",
    "```\n",
    "So, in this example, the Elf's pile of scratchcards is worth 13 points.\n",
    "\n",
    "Take a seat in the large pile of colorful cards. How many points are they worth in total?"
   ]
  },
  {
   "cell_type": "code",
   "execution_count": 41,
   "metadata": {},
   "outputs": [
    {
     "data": {
      "text/plain": [
       "['Card   1: 79 93 21 74 81 76 17 89  3  5 |  5 67 87 81 76 35 79 21 15 80  8 74 99 28  3 23 19 42 89 16 22 77 92 70 34',\n",
       " 'Card   2: 83 16 24 23 59 70 14 57 74 53 | 79 82 70 23 61 14 74 57 36 37 59 72 83 16  3  2 28 63 50 60 38 86 97 24 53',\n",
       " 'Card   3: 12 77 13 14 48 55 69  4 18 81 | 69  7 94 88 18 73 55 48 49 81 14 21 12 15  5 27 22 84 51 52 13 77  4 57 17',\n",
       " 'Card   4: 32 35 57 27 15  5 16 40 36 46 | 84 47 76 35 83  5 22 15 72 48 57 33 46 53 43 16 10 65 32 51 36 44 40 27 97',\n",
       " 'Card   5:  8 72 57 36 45 96  7 13 17 14 | 46 40  8  7 57 60 69 89 17 13 16 51 45 72 55 64 76 42 14 29 21  9 96 36 94',\n",
       " 'Card   6: 22 46 55  8 70 91 11 89 31  5 | 31 22 40 10 11 61 42 19 87 92 96 34 76 21 89 18 46  8 55 30 36 70 91 63  5',\n",
       " 'Card   7:  5 66 19 57 97 24 45 44 29 86 | 27  1 70 97 60 90 93 69 29 44 86 49 42 57 58 45 88 24  5 19 95 66 46 78 31',\n",
       " 'Card   8: 67  4 51 50 91 39 63 52 77 47 | 61 23 54 77 63 51 98 20 47 57 90  7 91 65 79 82 39 72 75 24 52 27 50 67  4',\n",
       " 'Card   9: 99 26  2 15 51 56 63 69 39 41 | 91 10 81 53 23 41 75 33  3 39  9 24  2  5 93 51 25 37 99 69 15  7 35 67 63',\n",
       " 'Card  10: 31 90 84 42 34 74 96 66 71 75 |  4 31 43 90 96 70 60 75  5 42 11  6 21 76  2 41 34 99 84 14 77 33 24 71 12']"
      ]
     },
     "execution_count": 41,
     "metadata": {},
     "output_type": "execute_result"
    }
   ],
   "source": [
    "with open('../inputs/day-4.txt') as f:\n",
    "    raw_input = f.read()\n",
    "input_lines = raw_input.split('\\n')\n",
    "input_lines.pop()\n",
    "input_lines[:10]"
   ]
  },
  {
   "cell_type": "code",
   "execution_count": 7,
   "metadata": {},
   "outputs": [],
   "source": [
    "import re"
   ]
  },
  {
   "cell_type": "code",
   "execution_count": 18,
   "metadata": {},
   "outputs": [],
   "source": [
    "def show_preview(dict_input, top):\n",
    "    return dict(list(dict_input.items())[:top])"
   ]
  },
  {
   "cell_type": "code",
   "execution_count": 103,
   "metadata": {},
   "outputs": [
    {
     "data": {
      "text/plain": [
       "{'1': {'win': ['79', '93', '21', '74', '81', '76', '17', '89', '3', '5'],\n",
       "  'have': ['5',\n",
       "   '67',\n",
       "   '87',\n",
       "   '81',\n",
       "   '76',\n",
       "   '35',\n",
       "   '79',\n",
       "   '21',\n",
       "   '15',\n",
       "   '80',\n",
       "   '8',\n",
       "   '74',\n",
       "   '99',\n",
       "   '28',\n",
       "   '3',\n",
       "   '23',\n",
       "   '19',\n",
       "   '42',\n",
       "   '89',\n",
       "   '16',\n",
       "   '22',\n",
       "   '77',\n",
       "   '92',\n",
       "   '70',\n",
       "   '34']}}"
      ]
     },
     "execution_count": 103,
     "metadata": {},
     "output_type": "execute_result"
    }
   ],
   "source": [
    "scratchcards_dict = {\n",
    "    line.split(':')[0].split('Card')[1].strip() : \n",
    "        {\n",
    "            'win' : re.findall(r'\\d+', line.split(':')[1].split('|')[0]),\n",
    "            'have' : re.findall(r'\\d+', line.split(':')[1].split('|')[1])\n",
    "        }\n",
    "    for line in input_lines}\n",
    "\n",
    "show_preview(scratchcards_dict, 1)"
   ]
  },
  {
   "cell_type": "code",
   "execution_count": 104,
   "metadata": {},
   "outputs": [
    {
     "data": {
      "text/plain": [
       "[8, 10, 10, 10, 10, 10, 10, 10, 8, 8, 1, 4, 0, 4, 3]"
      ]
     },
     "execution_count": 104,
     "metadata": {},
     "output_type": "execute_result"
    }
   ],
   "source": [
    "num_of_matches = [len(set(value['have']).intersection(set(value['win']) ) ) for value in scratchcards_dict.values()]\n",
    "num_of_matches[:15]"
   ]
  },
  {
   "cell_type": "code",
   "execution_count": 105,
   "metadata": {},
   "outputs": [
    {
     "data": {
      "text/plain": [
       "[128, 512, 512, 512, 512, 512, 512, 512, 128, 128, 1, 8, 0, 8, 4]"
      ]
     },
     "execution_count": 105,
     "metadata": {},
     "output_type": "execute_result"
    }
   ],
   "source": [
    "points = [2**(n-1) if n > 0 else 0 for n in num_of_matches]\n",
    "points[:15]"
   ]
  },
  {
   "cell_type": "code",
   "execution_count": 106,
   "metadata": {},
   "outputs": [
    {
     "data": {
      "text/plain": [
       "26443"
      ]
     },
     "execution_count": 106,
     "metadata": {},
     "output_type": "execute_result"
    }
   ],
   "source": [
    "sum(points)"
   ]
  },
  {
   "cell_type": "code",
   "execution_count": 107,
   "metadata": {},
   "outputs": [
    {
     "name": "stdout",
     "output_type": "stream",
     "text": [
      "[4, 2, 2, 1, 0, 0]\n",
      "[8, 2, 2, 1, 0, 0]\n",
      "13\n"
     ]
    }
   ],
   "source": [
    "example = '''Card 1: 41 48 83 86 17 | 83 86  6 31 17  9 48 53\n",
    "Card 2: 13 32 20 16 61 | 61 30 68 82 17 32 24 19\n",
    "Card 3:  1 21 53 59 44 | 69 82 63 72 16 21 14  1\n",
    "Card 4: 41 92 73 84 69 | 59 84 76 51 58  5 54 83\n",
    "Card 5: 87 83 26 28 32 | 88 30 70 12 93 22 82 36\n",
    "Card 6: 31 18 13 56 72 | 74 77 10 23 35 67 36 11'''\n",
    "\n",
    "example_lines = example.split('\\n')\n",
    "\n",
    "example_dict = {\n",
    "    line.split(':')[0].split('Card')[1].strip() : \n",
    "        {\n",
    "            'win' : re.findall(r'\\d+', line.split(':')[1].split('|')[0]),\n",
    "            'have' : re.findall(r'\\d+', line.split(':')[1].split('|')[1])\n",
    "        }\n",
    "    for line in example_lines}\n",
    "\n",
    "show_preview(example_dict, 2)\n",
    "\n",
    "num_of_matches_example = [len(set(value['have']).intersection(set(value['win']) ) ) for value in example_dict.values()]\n",
    "print(num_of_matches_example)\n",
    "\n",
    "points_example = [2**(n-1) if n > 0 else 0 for n in num_of_matches_example]\n",
    "print(points_example)\n",
    "print(sum(points_example))"
   ]
  },
  {
   "cell_type": "markdown",
   "metadata": {},
   "source": [
    "## --- Part Two ---\n",
    "Just as you're about to report your findings to the Elf, one of you realizes that the rules have actually been printed on the back of every card this whole time.\n",
    "\n",
    "There's no such thing as \"points\". Instead, scratchcards only cause you to win more scratchcards equal to the number of winning numbers you have.\n",
    "\n",
    "Specifically, you win copies of the scratchcards below the winning card equal to the number of matches. So, if card 10 were to have 5 matching numbers, you would win one copy each of cards 11, 12, 13, 14, and 15.\n",
    "\n",
    "Copies of scratchcards are scored like normal scratchcards and have the same card number as the card they copied. So, if you win a copy of card 10 and it has 5 matching numbers, it would then win a copy of the same cards that the original card 10 won: cards 11, 12, 13, 14, and 15. This process repeats until none of the copies cause you to win any more cards. (Cards will never make you copy a card past the end of the table.)\n",
    "\n",
    "This time, the above example goes differently:\n",
    "\n",
    "```python\n",
    "Card 1: 41 48 83 86 17 | 83 86  6 31 17  9 48 53\n",
    "Card 2: 13 32 20 16 61 | 61 30 68 82 17 32 24 19\n",
    "Card 3:  1 21 53 59 44 | 69 82 63 72 16 21 14  1\n",
    "Card 4: 41 92 73 84 69 | 59 84 76 51 58  5 54 83\n",
    "Card 5: 87 83 26 28 32 | 88 30 70 12 93 22 82 36\n",
    "Card 6: 31 18 13 56 72 | 74 77 10 23 35 67 36 11\n",
    "```\n",
    "- Card 1 has four matching numbers, so you win one copy each of the next four cards: cards 2, 3, 4, and 5.\n",
    "- Your original card 2 has two matching numbers, so you win one copy each of cards 3 and 4.\n",
    "- Your copy of card 2 also wins one copy each of cards 3 and 4.\n",
    "- Your four instances of card 3 (one original and three copies) have two matching numbers, so you win four copies each of cards 4 and 5.\n",
    "- Your eight instances of card 4 (one original and seven copies) have one matching number, so you win eight copies of card 5.\n",
    "- Your fourteen instances of card 5 (one original and thirteen copies) have no matching numbers and win no more cards.\n",
    "- Your one instance of card 6 (one original) has no matching numbers and wins no more cards.\n",
    "\n",
    "\n",
    "Once all of the originals and copies have been processed, you end up with 1 instance of card 1, 2 instances of card 2, 4 instances of card 3, 8 instances of card 4, 14 instances of card 5, and 1 instance of card 6. In total, this example pile of scratchcards causes you to ultimately have 30 scratchcards!\n",
    "\n",
    "Process all of the original and copied scratchcards until no more scratchcards are won. Including the original set of scratchcards, how many total scratchcards do you end up with?"
   ]
  },
  {
   "cell_type": "code",
   "execution_count": 110,
   "metadata": {},
   "outputs": [],
   "source": [
    "def init_copies(key, value, n):\n",
    "    i = int(key)\n",
    "    value['won_matches'] = n\n",
    "    value['copies'] = 1\n",
    "    value['extra_cards'] = list(range(i+1, i+1+n))\n",
    "    \n",
    "def update_copies(key, value, dict_input):\n",
    "    i = int(key)\n",
    "    if i >= 1 and i < len(dict_input):\n",
    "        for copy_key in value['extra_cards']:\n",
    "            for _ in range(value['copies']):\n",
    "                dict_input[str(copy_key)]['copies'] += 1"
   ]
  },
  {
   "cell_type": "code",
   "execution_count": 100,
   "metadata": {},
   "outputs": [
    {
     "data": {
      "text/plain": [
       "{'1': {'win': ['41', '48', '83', '86', '17'],\n",
       "  'have': ['83', '86', '6', '31', '17', '9', '48', '53'],\n",
       "  'won_matches': 4,\n",
       "  'copies': 1,\n",
       "  'extra_cards': [2, 3, 4, 5]},\n",
       " '2': {'win': ['13', '32', '20', '16', '61'],\n",
       "  'have': ['61', '30', '68', '82', '17', '32', '24', '19'],\n",
       "  'won_matches': 2,\n",
       "  'copies': 1,\n",
       "  'extra_cards': [3, 4]},\n",
       " '3': {'win': ['1', '21', '53', '59', '44'],\n",
       "  'have': ['69', '82', '63', '72', '16', '21', '14', '1'],\n",
       "  'won_matches': 2,\n",
       "  'copies': 1,\n",
       "  'extra_cards': [4, 5]},\n",
       " '4': {'win': ['41', '92', '73', '84', '69'],\n",
       "  'have': ['59', '84', '76', '51', '58', '5', '54', '83'],\n",
       "  'won_matches': 1,\n",
       "  'copies': 1,\n",
       "  'extra_cards': [5]},\n",
       " '5': {'win': ['87', '83', '26', '28', '32'],\n",
       "  'have': ['88', '30', '70', '12', '93', '22', '82', '36'],\n",
       "  'won_matches': 0,\n",
       "  'copies': 1,\n",
       "  'extra_cards': []},\n",
       " '6': {'win': ['31', '18', '13', '56', '72'],\n",
       "  'have': ['74', '77', '10', '23', '35', '67', '36', '11'],\n",
       "  'won_matches': 0,\n",
       "  'copies': 1,\n",
       "  'extra_cards': []}}"
      ]
     },
     "execution_count": 100,
     "metadata": {},
     "output_type": "execute_result"
    }
   ],
   "source": [
    "example_dict"
   ]
  },
  {
   "cell_type": "code",
   "execution_count": 101,
   "metadata": {},
   "outputs": [
    {
     "name": "stdout",
     "output_type": "stream",
     "text": [
      "game: 1\n",
      "Copy KEY 2 copies: 2\n",
      "Copy KEY 3 copies: 2\n",
      "Copy KEY 4 copies: 2\n",
      "Copy KEY 5 copies: 2\n",
      "game: 2\n",
      "Copy KEY 3 copies: 3\n",
      "Copy KEY 3 copies: 4\n",
      "Copy KEY 4 copies: 3\n",
      "Copy KEY 4 copies: 4\n",
      "game: 3\n",
      "Copy KEY 4 copies: 5\n",
      "Copy KEY 4 copies: 6\n",
      "Copy KEY 4 copies: 7\n",
      "Copy KEY 4 copies: 8\n",
      "Copy KEY 5 copies: 3\n",
      "Copy KEY 5 copies: 4\n",
      "Copy KEY 5 copies: 5\n",
      "Copy KEY 5 copies: 6\n",
      "game: 4\n",
      "Copy KEY 5 copies: 7\n",
      "Copy KEY 5 copies: 8\n",
      "Copy KEY 5 copies: 9\n",
      "Copy KEY 5 copies: 10\n",
      "Copy KEY 5 copies: 11\n",
      "Copy KEY 5 copies: 12\n",
      "Copy KEY 5 copies: 13\n",
      "Copy KEY 5 copies: 14\n",
      "game: 5\n"
     ]
    },
    {
     "data": {
      "text/plain": [
       "{'1': {'win': ['41', '48', '83', '86', '17'],\n",
       "  'have': ['83', '86', '6', '31', '17', '9', '48', '53'],\n",
       "  'won_matches': 4,\n",
       "  'copies': 1,\n",
       "  'extra_cards': [2, 3, 4, 5]},\n",
       " '2': {'win': ['13', '32', '20', '16', '61'],\n",
       "  'have': ['61', '30', '68', '82', '17', '32', '24', '19'],\n",
       "  'won_matches': 2,\n",
       "  'copies': 2,\n",
       "  'extra_cards': [3, 4]},\n",
       " '3': {'win': ['1', '21', '53', '59', '44'],\n",
       "  'have': ['69', '82', '63', '72', '16', '21', '14', '1'],\n",
       "  'won_matches': 2,\n",
       "  'copies': 4,\n",
       "  'extra_cards': [4, 5]},\n",
       " '4': {'win': ['41', '92', '73', '84', '69'],\n",
       "  'have': ['59', '84', '76', '51', '58', '5', '54', '83'],\n",
       "  'won_matches': 1,\n",
       "  'copies': 8,\n",
       "  'extra_cards': [5]},\n",
       " '5': {'win': ['87', '83', '26', '28', '32'],\n",
       "  'have': ['88', '30', '70', '12', '93', '22', '82', '36'],\n",
       "  'won_matches': 0,\n",
       "  'copies': 14,\n",
       "  'extra_cards': []},\n",
       " '6': {'win': ['31', '18', '13', '56', '72'],\n",
       "  'have': ['74', '77', '10', '23', '35', '67', '36', '11'],\n",
       "  'won_matches': 0,\n",
       "  'copies': 1,\n",
       "  'extra_cards': []}}"
      ]
     },
     "execution_count": 101,
     "metadata": {},
     "output_type": "execute_result"
    }
   ],
   "source": [
    "for (key, value), n in zip(example_dict.items(), num_of_matches_example):\n",
    "    init_copies(key, value, n)\n",
    "for (key, value), n in zip(example_dict.items(), num_of_matches_example):\n",
    "    update_copies(key, value, example_dict)\n",
    "\n",
    "example_dict"
   ]
  },
  {
   "cell_type": "code",
   "execution_count": 102,
   "metadata": {},
   "outputs": [
    {
     "data": {
      "text/plain": [
       "30"
      ]
     },
     "execution_count": 102,
     "metadata": {},
     "output_type": "execute_result"
    }
   ],
   "source": [
    "sum([value['copies'] for value in example_dict.values()])"
   ]
  },
  {
   "cell_type": "code",
   "execution_count": 114,
   "metadata": {},
   "outputs": [],
   "source": [
    "from tqdm import tqdm"
   ]
  },
  {
   "cell_type": "code",
   "execution_count": 116,
   "metadata": {},
   "outputs": [
    {
     "name": "stderr",
     "output_type": "stream",
     "text": [
      "0it [00:00, ?it/s]"
     ]
    },
    {
     "name": "stderr",
     "output_type": "stream",
     "text": [
      "218it [00:01, 129.48it/s]\n"
     ]
    },
    {
     "data": {
      "text/plain": [
       "{'1': {'win': ['79', '93', '21', '74', '81', '76', '17', '89', '3', '5'],\n",
       "  'have': ['5',\n",
       "   '67',\n",
       "   '87',\n",
       "   '81',\n",
       "   '76',\n",
       "   '35',\n",
       "   '79',\n",
       "   '21',\n",
       "   '15',\n",
       "   '80',\n",
       "   '8',\n",
       "   '74',\n",
       "   '99',\n",
       "   '28',\n",
       "   '3',\n",
       "   '23',\n",
       "   '19',\n",
       "   '42',\n",
       "   '89',\n",
       "   '16',\n",
       "   '22',\n",
       "   '77',\n",
       "   '92',\n",
       "   '70',\n",
       "   '34'],\n",
       "  'won_matches': 8,\n",
       "  'copies': 1,\n",
       "  'extra_cards': [2, 3, 4, 5, 6, 7, 8, 9]},\n",
       " '2': {'win': ['83', '16', '24', '23', '59', '70', '14', '57', '74', '53'],\n",
       "  'have': ['79',\n",
       "   '82',\n",
       "   '70',\n",
       "   '23',\n",
       "   '61',\n",
       "   '14',\n",
       "   '74',\n",
       "   '57',\n",
       "   '36',\n",
       "   '37',\n",
       "   '59',\n",
       "   '72',\n",
       "   '83',\n",
       "   '16',\n",
       "   '3',\n",
       "   '2',\n",
       "   '28',\n",
       "   '63',\n",
       "   '50',\n",
       "   '60',\n",
       "   '38',\n",
       "   '86',\n",
       "   '97',\n",
       "   '24',\n",
       "   '53'],\n",
       "  'won_matches': 10,\n",
       "  'copies': 2,\n",
       "  'extra_cards': [3, 4, 5, 6, 7, 8, 9, 10, 11, 12]},\n",
       " '3': {'win': ['12', '77', '13', '14', '48', '55', '69', '4', '18', '81'],\n",
       "  'have': ['69',\n",
       "   '7',\n",
       "   '94',\n",
       "   '88',\n",
       "   '18',\n",
       "   '73',\n",
       "   '55',\n",
       "   '48',\n",
       "   '49',\n",
       "   '81',\n",
       "   '14',\n",
       "   '21',\n",
       "   '12',\n",
       "   '15',\n",
       "   '5',\n",
       "   '27',\n",
       "   '22',\n",
       "   '84',\n",
       "   '51',\n",
       "   '52',\n",
       "   '13',\n",
       "   '77',\n",
       "   '4',\n",
       "   '57',\n",
       "   '17'],\n",
       "  'won_matches': 10,\n",
       "  'copies': 4,\n",
       "  'extra_cards': [4, 5, 6, 7, 8, 9, 10, 11, 12, 13]}}"
      ]
     },
     "execution_count": 116,
     "metadata": {},
     "output_type": "execute_result"
    }
   ],
   "source": [
    "for (key, value), n in zip(scratchcards_dict.items(), num_of_matches):\n",
    "    init_copies(key, value, n)\n",
    "for (key, value), n in tqdm(zip(scratchcards_dict.items(), num_of_matches)):\n",
    "    update_copies(key, value, scratchcards_dict)\n",
    "    \n",
    "    \n",
    "show_preview(scratchcards_dict, 3)\n",
    "    "
   ]
  },
  {
   "cell_type": "code",
   "execution_count": 117,
   "metadata": {},
   "outputs": [
    {
     "data": {
      "text/plain": [
       "[1, 2, 4, 8, 16, 32, 64, 128, 256, 511, 1022, 2044, 3064, 3060, 6112]"
      ]
     },
     "execution_count": 117,
     "metadata": {},
     "output_type": "execute_result"
    }
   ],
   "source": [
    "scratchcards_copy_numbers = [value['copies'] for value in scratchcards_dict.values()]\n",
    "scratchcards_copy_numbers[:15]"
   ]
  },
  {
   "cell_type": "code",
   "execution_count": 118,
   "metadata": {},
   "outputs": [
    {
     "data": {
      "text/plain": [
       "6284877"
      ]
     },
     "execution_count": 118,
     "metadata": {},
     "output_type": "execute_result"
    }
   ],
   "source": [
    "answer = sum(scratchcards_copy_numbers)\n",
    "answer"
   ]
  },
  {
   "cell_type": "code",
   "execution_count": null,
   "metadata": {},
   "outputs": [],
   "source": []
  }
 ],
 "metadata": {
  "kernelspec": {
   "display_name": "AoC",
   "language": "python",
   "name": "python3"
  },
  "language_info": {
   "codemirror_mode": {
    "name": "ipython",
    "version": 3
   },
   "file_extension": ".py",
   "mimetype": "text/x-python",
   "name": "python",
   "nbconvert_exporter": "python",
   "pygments_lexer": "ipython3",
   "version": "3.9.18"
  },
  "orig_nbformat": 4
 },
 "nbformat": 4,
 "nbformat_minor": 2
}

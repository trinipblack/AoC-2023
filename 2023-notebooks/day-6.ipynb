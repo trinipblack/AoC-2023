{
 "cells": [
  {
   "cell_type": "markdown",
   "metadata": {},
   "source": [
    "# DAY 6"
   ]
  },
  {
   "cell_type": "markdown",
   "metadata": {},
   "source": [
    "## --- Day 6: Wait For It ---\n",
    "The ferry quickly brings you across Island Island. After asking around, you discover that there is indeed normally a large pile of sand somewhere near here, but you don't see anything besides lots of water and the small island where the ferry has docked.\n",
    "\n",
    "As you try to figure out what to do next, you notice a poster on a wall near the ferry dock. \"Boat races! Open to the public! Grand prize is an all-expenses-paid trip to Desert Island!\" That must be where the sand comes from! Best of all, the boat races are starting in just a few minutes.\n",
    "\n",
    "You manage to sign up as a competitor in the boat races just in time. The organizer explains that it's not really a traditional race - instead, you will get a fixed amount of time during which your boat has to travel as far as it can, and you win if your boat goes the farthest.\n",
    "\n",
    "As part of signing up, you get a sheet of paper (your puzzle input) that lists the time allowed for each race and also the best distance ever recorded in that race. To guarantee you win the grand prize, you need to make sure you go farther in each race than the current record holder.\n",
    "\n",
    "The organizer brings you over to the area where the boat races are held. The boats are much smaller than you expected - they're actually toy boats, each with a big button on top. Holding down the button charges the boat, and releasing the button allows the boat to move. Boats move faster if their button was held longer, but time spent holding the button counts against the total race time. You can only hold the button at the start of the race, and boats don't move until the button is released.\n",
    "\n",
    "For example:\n",
    "\n",
    "Time:      7  15   30\n",
    "Distance:  9  40  200\n",
    "This document describes three races:\n",
    "\n",
    "The first race lasts 7 milliseconds. The record distance in this race is 9 millimeters.\n",
    "The second race lasts 15 milliseconds. The record distance in this race is 40 millimeters.\n",
    "The third race lasts 30 milliseconds. The record distance in this race is 200 millimeters.\n",
    "Your toy boat has a starting speed of zero millimeters per millisecond. For each whole millisecond you spend at the beginning of the race holding down the button, the boat's speed increases by one millimeter per millisecond.\n",
    "\n",
    "So, because the first race lasts 7 milliseconds, you only have a few options:\n",
    "\n",
    "Don't hold the button at all (that is, hold it for 0 milliseconds) at the start of the race. The boat won't move; it will have traveled 0 millimeters by the end of the race.\n",
    "Hold the button for 1 millisecond at the start of the race. Then, the boat will travel at a speed of 1 millimeter per millisecond for 6 milliseconds, reaching a total distance traveled of 6 millimeters.\n",
    "Hold the button for 2 milliseconds, giving the boat a speed of 2 millimeters per millisecond. It will then get 5 milliseconds to move, reaching a total distance of 10 millimeters.\n",
    "Hold the button for 3 milliseconds. After its remaining 4 milliseconds of travel time, the boat will have gone 12 millimeters.\n",
    "Hold the button for 4 milliseconds. After its remaining 3 milliseconds of travel time, the boat will have gone 12 millimeters.\n",
    "Hold the button for 5 milliseconds, causing the boat to travel a total of 10 millimeters.\n",
    "Hold the button for 6 milliseconds, causing the boat to travel a total of 6 millimeters.\n",
    "Hold the button for 7 milliseconds. That's the entire duration of the race. You never let go of the button. The boat can't move until you let go of the button. Please make sure you let go of the button so the boat gets to move. 0 millimeters.\n",
    "Since the current record for this race is 9 millimeters, there are actually 4 different ways you could win: you could hold the button for 2, 3, 4, or 5 milliseconds at the start of the race.\n",
    "\n",
    "In the second race, you could hold the button for at least 4 milliseconds and at most 11 milliseconds and beat the record, a total of 8 different ways to win.\n",
    "\n",
    "In the third race, you could hold the button for at least 11 milliseconds and no more than 19 milliseconds and still beat the record, a total of 9 ways you could win.\n",
    "\n",
    "To see how much margin of error you have, determine the number of ways you can beat the record in each race; in this example, if you multiply these values together, you get 288 (4 * 8 * 9).\n",
    "\n",
    "Determine the number of ways you could beat the record in each race. What do you get if you multiply these numbers together?"
   ]
  },
  {
   "cell_type": "code",
   "execution_count": 1,
   "metadata": {},
   "outputs": [
    {
     "name": "stdout",
     "output_type": "stream",
     "text": [
      "Time:        46     80     78     66\n",
      "Distance:   214   1177   1402   1024\n"
     ]
    }
   ],
   "source": [
    "with open('../inputs/day-6.txt') as f:\n",
    "    raw_input = f.read()\n",
    "print(raw_input[:500])"
   ]
  },
  {
   "cell_type": "code",
   "execution_count": 2,
   "metadata": {},
   "outputs": [],
   "source": [
    "example = '''Time:      7  15   30\n",
    "Distance:  9  40  200'''"
   ]
  },
  {
   "cell_type": "code",
   "execution_count": 49,
   "metadata": {},
   "outputs": [],
   "source": [
    "import re\n",
    "from tqdm import tqdm"
   ]
  },
  {
   "cell_type": "code",
   "execution_count": 28,
   "metadata": {},
   "outputs": [
    {
     "data": {
      "text/plain": [
       "[{'race': 1, 'time': 7, 'record': 9},\n",
       " {'race': 2, 'time': 15, 'record': 40},\n",
       " {'race': 3, 'time': 30, 'record': 200}]"
      ]
     },
     "execution_count": 28,
     "metadata": {},
     "output_type": "execute_result"
    }
   ],
   "source": [
    "def pre_process(raw):\n",
    " ll = [re.findall(r'\\d+', line.split(':')[1].strip()) for line in raw.split('\\n')]\n",
    " return [{'race' : i+1, 'time' : int(ll[0][i]), 'record' : int(ll[1][i])} for i in range(len(ll[0]))]\n",
    "\n",
    "example_races_info = pre_process(example)\n",
    "example_races_info"
   ]
  },
  {
   "cell_type": "code",
   "execution_count": 29,
   "metadata": {},
   "outputs": [
    {
     "data": {
      "text/plain": [
       "[{'race': 1, 'time': 46, 'record': 214},\n",
       " {'race': 2, 'time': 80, 'record': 1177},\n",
       " {'race': 3, 'time': 78, 'record': 1402},\n",
       " {'race': 4, 'time': 66, 'record': 1024}]"
      ]
     },
     "execution_count": 29,
     "metadata": {},
     "output_type": "execute_result"
    }
   ],
   "source": [
    "races_info = pre_process(raw_input)\n",
    "races_info"
   ]
  },
  {
   "cell_type": "code",
   "execution_count": null,
   "metadata": {},
   "outputs": [],
   "source": [
    "# Buscamos distancia > record\n",
    "# distancia = vel * tiempo_restante\n",
    "# t_TOTAL = t_restante + t_botón \n",
    "# vel = t_botón\n",
    "# Por lo tanto\n",
    "# vel * tiempo_restante > record\n",
    "# t_botón * tiempo_restante > record\n",
    "# t_botón * (t_TOTAL - t_botón) > record\n",
    "# t_boton**2 - t_TOTAL * t_botón + record < 0\n",
    "# t_boton < (t_TOTAL +- sqrt(t_TOTAL**2 - 4 * record)) / 2"
   ]
  },
  {
   "cell_type": "code",
   "execution_count": 5,
   "metadata": {},
   "outputs": [],
   "source": [
    "def get_possible_button_times(max_time):\n",
    "    return list(range(0, max_time + 1))\n",
    "\n",
    "def get_distance(t_TOTAL, t_button):\n",
    "    return t_button *(t_TOTAL - t_button)\n",
    "    "
   ]
  },
  {
   "cell_type": "code",
   "execution_count": 54,
   "metadata": {},
   "outputs": [
    {
     "name": "stdout",
     "output_type": "stream",
     "text": [
      "1\n"
     ]
    },
    {
     "name": "stderr",
     "output_type": "stream",
     "text": [
      "race_possible_distances: 100%|██████████| 8/8 [00:00<00:00, 107546.26it/s]\n",
      "races_over_record: 100%|██████████| 8/8 [00:00<00:00, 41221.66it/s]\n"
     ]
    },
    {
     "name": "stdout",
     "output_type": "stream",
     "text": [
      "2\n"
     ]
    },
    {
     "name": "stderr",
     "output_type": "stream",
     "text": [
      "race_possible_distances: 100%|██████████| 16/16 [00:00<00:00, 207767.38it/s]\n",
      "races_over_record: 100%|██████████| 16/16 [00:00<00:00, 262144.00it/s]\n"
     ]
    },
    {
     "name": "stdout",
     "output_type": "stream",
     "text": [
      "3\n"
     ]
    },
    {
     "name": "stderr",
     "output_type": "stream",
     "text": [
      "race_possible_distances: 100%|██████████| 31/31 [00:00<00:00, 94562.49it/s]\n",
      "races_over_record: 100%|██████████| 31/31 [00:00<00:00, 179095.63it/s]\n",
      "number_of_ways_to_beat_record: 100%|██████████| 3/3 [00:00<00:00, 42366.71it/s]"
     ]
    },
    {
     "name": "stdout",
     "output_type": "stream",
     "text": [
      "[{'race': 1, 'time': 7, 'record': 9, 'number_of_ways_to_beat_record': 4}, {'race': 2, 'time': 15, 'record': 40, 'number_of_ways_to_beat_record': 8}, {'race': 3, 'time': 30, 'record': 200, 'number_of_ways_to_beat_record': 9}]\n",
      "[4, 8, 9]\n"
     ]
    },
    {
     "name": "stderr",
     "output_type": "stream",
     "text": [
      "\n"
     ]
    }
   ],
   "source": [
    "def get_number_of_ways_to_beat_record(race_list_input):\n",
    "    race_list = race_list_input.copy()\n",
    "    for race in race_list:\n",
    "        print(race['race'])\n",
    "        race_time = race['time']\n",
    "        race_possible_distances = [get_distance(race_time, t_button) for t_button in tqdm(get_possible_button_times(race_time), desc = 'race_possible_distances')]\n",
    "        races_over_record = [race_dist > race['record'] for race_dist in tqdm(race_possible_distances, desc = 'races_over_record')]\n",
    "        race['number_of_ways_to_beat_record'] = sum(races_over_record)\n",
    "    \n",
    "    number_of_ways_to_beat_record  = [race['number_of_ways_to_beat_record'] for race in tqdm(race_list, desc = 'number_of_ways_to_beat_record')]\n",
    "    return race_list, number_of_ways_to_beat_record\n",
    "\n",
    "ex_d, ex_l = get_number_of_ways_to_beat_record(example_races_info)\n",
    "print(ex_d)\n",
    "print(ex_l)"
   ]
  },
  {
   "cell_type": "code",
   "execution_count": 41,
   "metadata": {},
   "outputs": [
    {
     "data": {
      "text/plain": [
       "288"
      ]
     },
     "execution_count": 41,
     "metadata": {},
     "output_type": "execute_result"
    }
   ],
   "source": [
    "import math\n",
    "ex_answer = math.prod(ex_l)\n",
    "ex_answer"
   ]
  },
  {
   "cell_type": "code",
   "execution_count": 40,
   "metadata": {},
   "outputs": [],
   "source": [
    "races_info_plus_ways, list_of_num_of_ways = get_number_of_ways_to_beat_record(races_info)"
   ]
  },
  {
   "cell_type": "code",
   "execution_count": 42,
   "metadata": {},
   "outputs": [],
   "source": [
    "answer = math.prod(list_of_num_of_ways)"
   ]
  },
  {
   "cell_type": "code",
   "execution_count": 43,
   "metadata": {},
   "outputs": [
    {
     "data": {
      "text/plain": [
       "512295"
      ]
     },
     "execution_count": 43,
     "metadata": {},
     "output_type": "execute_result"
    }
   ],
   "source": [
    "answer"
   ]
  },
  {
   "cell_type": "markdown",
   "metadata": {},
   "source": [
    "## --- Part Two ---\n",
    "As the race is about to start, you realize the piece of paper with race times and record distances you got earlier actually just has very bad kerning. There's really only one race - ignore the spaces between the numbers on each line.\n",
    "\n",
    "So, the example from before:\n",
    "\n",
    "Time:      7  15   30\n",
    "Distance:  9  40  200\n",
    "...now instead means this:\n",
    "\n",
    "Time:      71530\n",
    "Distance:  940200\n",
    "Now, you have to figure out how many ways there are to win this single race. In this example, the race lasts for 71530 milliseconds and the record distance you need to beat is 940200 millimeters. You could hold the button anywhere from 14 to 71516 milliseconds and beat the record, a total of 71503 ways!\n",
    "\n",
    "How many ways can you beat the record in this one much longer race?"
   ]
  },
  {
   "cell_type": "code",
   "execution_count": 56,
   "metadata": {},
   "outputs": [
    {
     "name": "stdout",
     "output_type": "stream",
     "text": [
      "1\n"
     ]
    },
    {
     "name": "stderr",
     "output_type": "stream",
     "text": [
      "race_possible_distances: 100%|██████████| 71531/71531 [00:00<00:00, 2110562.28it/s]\n",
      "races_over_record: 100%|██████████| 71531/71531 [00:00<00:00, 2988423.32it/s]\n",
      "number_of_ways_to_beat_record: 100%|██████████| 1/1 [00:00<00:00, 5440.08it/s]\n"
     ]
    },
    {
     "data": {
      "text/plain": [
       "([{'race': 1,\n",
       "   'time': 71530,\n",
       "   'record': 940200,\n",
       "   'number_of_ways_to_beat_record': 71503}],\n",
       " [71503])"
      ]
     },
     "execution_count": 56,
     "metadata": {},
     "output_type": "execute_result"
    }
   ],
   "source": [
    "# example\n",
    "get_number_of_ways_to_beat_record([{'race': 1, 'time': 71530, 'record': 940200}])"
   ]
  },
  {
   "cell_type": "code",
   "execution_count": 48,
   "metadata": {},
   "outputs": [
    {
     "name": "stdout",
     "output_type": "stream",
     "text": [
      "Time:        46     80     78     66\n",
      "Distance:   214   1177   1402   1024\n"
     ]
    }
   ],
   "source": [
    "print(raw_input)"
   ]
  },
  {
   "cell_type": "code",
   "execution_count": 55,
   "metadata": {},
   "outputs": [
    {
     "data": {
      "text/plain": [
       "[{'race': 1, 'time': 46807866, 'record': 214117714021024}]"
      ]
     },
     "execution_count": 55,
     "metadata": {},
     "output_type": "execute_result"
    }
   ],
   "source": [
    "def pre_process2(raw):\n",
    " ll = [re.findall(r'\\d+', line.split(':')[1].strip().replace(' ', '')) for line in raw.split('\\n')]\n",
    " return [{'race' : i+1, 'time' : int(ll[0][i]), 'record' : int(ll[1][i])} for i in range(len(ll[0]))]\n",
    "\n",
    "pre_process2(raw_input)"
   ]
  },
  {
   "cell_type": "code",
   "execution_count": 57,
   "metadata": {},
   "outputs": [
    {
     "name": "stdout",
     "output_type": "stream",
     "text": [
      "1\n"
     ]
    },
    {
     "name": "stderr",
     "output_type": "stream",
     "text": [
      "race_possible_distances: 100%|██████████| 46807867/46807867 [00:14<00:00, 3138598.01it/s]\n",
      "races_over_record: 100%|██████████| 46807867/46807867 [00:09<00:00, 4896545.01it/s]\n",
      "number_of_ways_to_beat_record: 100%|██████████| 1/1 [00:00<00:00, 5622.39it/s]\n"
     ]
    },
    {
     "data": {
      "text/plain": [
       "([{'race': 1,\n",
       "   'time': 46807866,\n",
       "   'record': 214117714021024,\n",
       "   'number_of_ways_to_beat_record': 36530883}],\n",
       " [36530883])"
      ]
     },
     "execution_count": 57,
     "metadata": {},
     "output_type": "execute_result"
    }
   ],
   "source": [
    "get_number_of_ways_to_beat_record(pre_process2(raw_input))"
   ]
  },
  {
   "cell_type": "code",
   "execution_count": null,
   "metadata": {},
   "outputs": [],
   "source": []
  }
 ],
 "metadata": {
  "kernelspec": {
   "display_name": "AoC",
   "language": "python",
   "name": "python3"
  },
  "language_info": {
   "codemirror_mode": {
    "name": "ipython",
    "version": 3
   },
   "file_extension": ".py",
   "mimetype": "text/x-python",
   "name": "python",
   "nbconvert_exporter": "python",
   "pygments_lexer": "ipython3",
   "version": "3.9.18"
  },
  "orig_nbformat": 4
 },
 "nbformat": 4,
 "nbformat_minor": 2
}

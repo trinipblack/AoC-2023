{
 "cells": [
  {
   "cell_type": "markdown",
   "metadata": {},
   "source": [
    "# DAY 2"
   ]
  },
  {
   "cell_type": "markdown",
   "metadata": {},
   "source": [
    "## --- Day 2: Cube Conundrum ---\n",
    "You're launched high into the atmosphere! The apex of your trajectory just barely reaches the surface of a large island floating in the sky. You gently land in a fluffy pile of leaves. It's quite cold, but you don't see much snow. An Elf runs over to greet you.\n",
    "\n",
    "The Elf explains that you've arrived at Snow Island and apologizes for the lack of snow. He'll be happy to explain the situation, but it's a bit of a walk, so you have some time. They don't get many visitors up here; would you like to play a game in the meantime?\n",
    "\n",
    "As you walk, the Elf shows you a small bag and some cubes which are either red, green, or blue. Each time you play this game, he will hide a secret number of cubes of each color in the bag, and your goal is to figure out information about the number of cubes.\n",
    "\n",
    "To get information, once a bag has been loaded with cubes, the Elf will reach into the bag, grab a handful of random cubes, show them to you, and then put them back in the bag. He'll do this a few times per game.\n",
    "\n",
    "You play several games and record the information from each game (your puzzle input). Each game is listed with its ID number (like the 11 in Game 11: ...) followed by a semicolon-separated list of subsets of cubes that were revealed from the bag (like 3 red, 5 green, 4 blue).\n",
    "\n",
    "For example, the record of a few games might look like this:\n",
    "\n",
    "```python\n",
    "Game 1: 3 blue, 4 red; 1 red, 2 green, 6 blue; 2 green\n",
    "Game 2: 1 blue, 2 green; 3 green, 4 blue, 1 red; 1 green, 1 blue\n",
    "Game 3: 8 green, 6 blue, 20 red; 5 blue, 4 red, 13 green; 5 green, 1 red\n",
    "Game 4: 1 green, 3 red, 6 blue; 3 green, 6 red; 3 green, 15 blue, 14 red\n",
    "Game 5: 6 red, 1 blue, 3 green; 2 blue, 1 red, 2 green\n",
    "```\n",
    "\n",
    "In game 1, three sets of cubes are revealed from the bag (and then put back again). The first set is 3 blue cubes and 4 red cubes; the second set is 1 red cube, 2 green cubes, and 6 blue cubes; the third set is only 2 green cubes.\n",
    "\n",
    "The Elf would first like to know which games would have been possible if the bag contained only 12 red cubes, 13 green cubes, and 14 blue cubes?\n",
    "\n",
    "In the example above, games 1, 2, and 5 would have been possible if the bag had been loaded with that configuration. However, game 3 would have been impossible because at one point the Elf showed you 20 red cubes at once; similarly, game 4 would also have been impossible because the Elf showed you 15 blue cubes at once. If you add up the IDs of the games that would have been possible, you get 8.\n",
    "\n",
    "Determine which games would have been possible if the bag had been loaded with only 12 red cubes, 13 green cubes, and 14 blue cubes. What is the sum of the IDs of those games?\n",
    "\n"
   ]
  },
  {
   "cell_type": "code",
   "execution_count": 4,
   "metadata": {},
   "outputs": [
    {
     "data": {
      "text/plain": [
       "['Game 1: 4 red, 1 green, 15 blue; 6 green, 2 red, 10 blue; 7 blue, 6 green, 4 red; 12 blue, 10 green, 3 red',\n",
       " 'Game 2: 3 green, 18 blue; 14 green, 4 red, 2 blue; 3 red, 14 green, 15 blue',\n",
       " 'Game 3: 12 green, 2 blue; 9 green; 1 red, 11 blue, 4 green',\n",
       " 'Game 4: 4 blue, 8 green, 5 red; 6 red, 7 blue, 9 green; 2 green, 2 red, 2 blue; 2 green, 6 blue, 9 red; 10 red, 9 green',\n",
       " 'Game 5: 12 red, 1 green, 7 blue; 13 red, 16 blue; 16 blue, 10 red; 4 blue; 16 blue, 7 red; 1 blue, 7 red',\n",
       " 'Game 6: 17 blue, 2 red; 5 blue, 6 green, 2 red; 5 green, 5 blue; 5 green, 12 blue, 4 red',\n",
       " 'Game 7: 2 red, 1 blue, 10 green; 8 red, 14 green, 9 blue; 15 red, 1 blue, 6 green; 9 blue, 3 green, 10 red; 7 blue, 13 red, 4 green',\n",
       " 'Game 8: 1 green, 2 blue; 7 red, 2 blue, 1 green; 1 red, 2 green; 4 red, 1 blue; 11 red, 2 green, 2 blue; 1 blue, 2 green, 11 red',\n",
       " 'Game 9: 11 green, 11 blue, 6 red; 2 green, 3 blue, 2 red; 2 red, 11 blue, 14 green; 5 green, 7 red, 7 blue; 7 green, 1 red, 12 blue; 1 red, 8 green, 7 blue',\n",
       " 'Game 10: 2 red, 8 green, 7 blue; 10 red, 5 green, 2 blue; 4 red, 8 green, 16 blue; 10 blue, 3 green, 15 red']"
      ]
     },
     "execution_count": 4,
     "metadata": {},
     "output_type": "execute_result"
    }
   ],
   "source": [
    "with open('../inputs/day-2.txt') as f:\n",
    "    raw_input = f.read()\n",
    "input_lines = raw_input.split('\\n')\n",
    "input_lines.pop()\n",
    "input_lines[:10]"
   ]
  },
  {
   "cell_type": "code",
   "execution_count": 45,
   "metadata": {},
   "outputs": [],
   "source": [
    "example = [\n",
    "'Game 1: 3 blue, 4 red; 1 red, 2 green, 6 blue; 2 green',\n",
    "'Game 2: 1 blue, 2 green; 3 green, 4 blue, 1 red; 1 green, 1 blue',\n",
    "'Game 3: 8 green, 6 blue, 20 red; 5 blue, 4 red, 13 green; 5 green, 1 red',\n",
    "'Game 4: 1 green, 3 red, 6 blue; 3 green, 6 red; 3 green, 15 blue, 14 red',\n",
    "'Game 5: 6 red, 1 blue, 3 green; 2 blue, 1 red, 2 green'\n",
    "]"
   ]
  },
  {
   "cell_type": "code",
   "execution_count": 26,
   "metadata": {},
   "outputs": [],
   "source": [
    "max_dict = {\n",
    "    'red' : 12,\n",
    "    'green' : 13,\n",
    "    'blue' : 14\n",
    "    }"
   ]
  },
  {
   "cell_type": "code",
   "execution_count": 51,
   "metadata": {},
   "outputs": [
    {
     "data": {
      "text/plain": [
       "{1: [{'red': 4, 'green': 0, 'blue': 3},\n",
       "  {'red': 1, 'green': 2, 'blue': 6},\n",
       "  {'red': 0, 'green': 2, 'blue': 0}],\n",
       " 2: [{'red': 0, 'green': 2, 'blue': 1},\n",
       "  {'red': 1, 'green': 3, 'blue': 4},\n",
       "  {'red': 0, 'green': 1, 'blue': 1}],\n",
       " 3: [{'red': 20, 'green': 8, 'blue': 6},\n",
       "  {'red': 4, 'green': 13, 'blue': 5},\n",
       "  {'red': 1, 'green': 5, 'blue': 0}],\n",
       " 4: [{'red': 3, 'green': 1, 'blue': 6},\n",
       "  {'red': 6, 'green': 3, 'blue': 0},\n",
       "  {'red': 14, 'green': 3, 'blue': 15}],\n",
       " 5: [{'red': 6, 'green': 3, 'blue': 1}, {'red': 1, 'green': 2, 'blue': 2}]}"
      ]
     },
     "execution_count": 51,
     "metadata": {},
     "output_type": "execute_result"
    }
   ],
   "source": [
    "def get_dictionary_of_games(list_of_games):\n",
    "   game_dict = {\n",
    "      int(line.split(':')[0].split(' ')[1]) : \n",
    "      [\n",
    "         {'red' : int(showed_info.split(' red')[0].split(',')[-1].strip()) if 'red' in showed_info else 0,\n",
    "         'green' : int(showed_info.split(' green')[0].split(',')[-1].strip()) if 'green' in showed_info else 0,\n",
    "         'blue' : int(showed_info.split(' blue')[0].split(',')[-1].strip()) if 'blue' in showed_info else 0,\n",
    "         } \n",
    "         for showed_info in line.split(':')[1].split(';')\n",
    "      ]\n",
    "      for line in list_of_games\n",
    "      }\n",
    "   \n",
    "   return game_dict\n",
    " \n",
    " \n",
    "example_dict = get_dictionary_of_games(example)\n",
    "example_dict"
   ]
  },
  {
   "cell_type": "code",
   "execution_count": 50,
   "metadata": {},
   "outputs": [
    {
     "data": {
      "text/plain": [
       "{1: [{'red': 4, 'green': 1, 'blue': 15},\n",
       "  {'red': 2, 'green': 6, 'blue': 10},\n",
       "  {'red': 4, 'green': 6, 'blue': 7},\n",
       "  {'red': 3, 'green': 10, 'blue': 12}],\n",
       " 2: [{'red': 0, 'green': 3, 'blue': 18},\n",
       "  {'red': 4, 'green': 14, 'blue': 2},\n",
       "  {'red': 3, 'green': 14, 'blue': 15}],\n",
       " 3: [{'red': 0, 'green': 12, 'blue': 2},\n",
       "  {'red': 0, 'green': 9, 'blue': 0},\n",
       "  {'red': 1, 'green': 4, 'blue': 11}],\n",
       " 4: [{'red': 5, 'green': 8, 'blue': 4},\n",
       "  {'red': 6, 'green': 9, 'blue': 7},\n",
       "  {'red': 2, 'green': 2, 'blue': 2},\n",
       "  {'red': 9, 'green': 2, 'blue': 6},\n",
       "  {'red': 10, 'green': 9, 'blue': 0}],\n",
       " 5: [{'red': 12, 'green': 1, 'blue': 7},\n",
       "  {'red': 13, 'green': 0, 'blue': 16},\n",
       "  {'red': 10, 'green': 0, 'blue': 16},\n",
       "  {'red': 0, 'green': 0, 'blue': 4},\n",
       "  {'red': 7, 'green': 0, 'blue': 16},\n",
       "  {'red': 7, 'green': 0, 'blue': 1}]}"
      ]
     },
     "execution_count": 50,
     "metadata": {},
     "output_type": "execute_result"
    }
   ],
   "source": [
    "game_dict = get_dictionary_of_games(input_lines)\n",
    "dict(list(game_dict.items())[:5])"
   ]
  },
  {
   "cell_type": "code",
   "execution_count": 56,
   "metadata": {},
   "outputs": [
    {
     "data": {
      "text/plain": [
       "[1, 2, 5]"
      ]
     },
     "execution_count": 56,
     "metadata": {},
     "output_type": "execute_result"
    }
   ],
   "source": [
    "def get_possible_game_ids(game_dict, max_dict):\n",
    "    possible_game_ids = []\n",
    "    for key, value in game_dict.items():\n",
    "        possible = True\n",
    "        for showed_info in value:\n",
    "            condition = (showed_info['red'] <= max_dict['red'] and \n",
    "                        showed_info['green'] <= max_dict['green'] and \n",
    "                        showed_info['blue'] <= max_dict['blue'])\n",
    "            possible = possible and condition\n",
    "        if possible:\n",
    "            possible_game_ids.append(key)\n",
    "    return possible_game_ids\n",
    "\n",
    "\n",
    "example_possible_game_ids = get_possible_game_ids(example_dict, max_dict)\n",
    "example_possible_game_ids"
   ]
  },
  {
   "cell_type": "code",
   "execution_count": 55,
   "metadata": {},
   "outputs": [
    {
     "data": {
      "text/plain": [
       "[3, 4, 8, 11, 14, 15, 17, 18, 22, 24]"
      ]
     },
     "execution_count": 55,
     "metadata": {},
     "output_type": "execute_result"
    }
   ],
   "source": [
    "possible_game_ids = get_possible_game_ids(game_dict, max_dict)\n",
    "possible_game_ids[:10]"
   ]
  },
  {
   "cell_type": "code",
   "execution_count": 39,
   "metadata": {},
   "outputs": [
    {
     "data": {
      "text/plain": [
       "2237"
      ]
     },
     "execution_count": 39,
     "metadata": {},
     "output_type": "execute_result"
    }
   ],
   "source": [
    "answer = sum(possible_game_ids)\n",
    "answer"
   ]
  },
  {
   "cell_type": "markdown",
   "metadata": {},
   "source": [
    "## --- Part Two ---\n",
    "The Elf says they've stopped producing snow because they aren't getting any water! He isn't sure why the water stopped; however, he can show you how to get to the water source to check it out for yourself. It's just up ahead!\n",
    "\n",
    "As you continue your walk, the Elf poses a second question: in each game you played, what is the fewest number of cubes of each color that could have been in the bag to make the game possible?\n",
    "\n",
    "Again consider the example games from earlier:\n",
    "\n",
    "```python\n",
    "Game 1: 3 blue, 4 red; 1 red, 2 green, 6 blue; 2 green\n",
    "Game 2: 1 blue, 2 green; 3 green, 4 blue, 1 red; 1 green, 1 blue\n",
    "Game 3: 8 green, 6 blue, 20 red; 5 blue, 4 red, 13 green; 5 green, 1 red\n",
    "Game 4: 1 green, 3 red, 6 blue; 3 green, 6 red; 3 green, 15 blue, 14 red\n",
    "Game 5: 6 red, 1 blue, 3 green; 2 blue, 1 red, 2 green\n",
    "```\n",
    "\n",
    "\n",
    "\n",
    "- Game 1, the game could have been played with as few as 4 red, 2 green, and 6 blue cubes. If any color had even one fewer cube, the game would have been impossible.\n",
    "- Game 2 could have been played with a minimum of 1 red, 3 green, and 4 blue cubes.\n",
    "- Game 3 must have been played with at least 20 red, 13 green, and 6 blue cubes.\n",
    "- Game 4 required at least 14 red, 3 green, and 15 blue cubes.\n",
    "- Game 5 needed no fewer than 6 red, 3 green, and 2 blue cubes in the bag.\n",
    "\n",
    "\n",
    "\n",
    "The power of a set of cubes is equal to the numbers of red, green, and blue cubes multiplied together. The power of the minimum set of cubes in game 1 is 48. In games 2-5 it was 12, 1560, 630, and 36, respectively. Adding up these five powers produces the sum 2286.\n",
    "\n",
    "For each game, find the minimum set of cubes that must have been present. What is the sum of the power of these sets?"
   ]
  },
  {
   "cell_type": "code",
   "execution_count": 41,
   "metadata": {},
   "outputs": [],
   "source": [
    "min_dict = {\n",
    "    'red' : 0,\n",
    "    'green' : 0,\n",
    "    'blue' : 0\n",
    "    }"
   ]
  },
  {
   "cell_type": "code",
   "execution_count": 61,
   "metadata": {},
   "outputs": [
    {
     "data": {
      "text/plain": [
       "[48, 12, 1560, 630, 36]"
      ]
     },
     "execution_count": 61,
     "metadata": {},
     "output_type": "execute_result"
    }
   ],
   "source": [
    "def get_power_of_minimum_set_list(game_dict, min_dict):\n",
    "    power_of_minimum_set_list = []\n",
    "    for key, value in game_dict.items():\n",
    "        max_red = min_dict['red']\n",
    "        max_green = min_dict['green']\n",
    "        max_blue = min_dict['blue']\n",
    "        for showed_info in value:\n",
    "            max_red = max(showed_info['red'], max_red)\n",
    "            max_green = max(showed_info['green'], max_green)\n",
    "            max_blue = max(showed_info['blue'], max_blue)\n",
    "        power_of_minimum_set = max_red * max_green * max_blue\n",
    "        power_of_minimum_set_list.append(power_of_minimum_set)\n",
    "    return power_of_minimum_set_list\n",
    "\n",
    "example_power_of_minimum_set_list = get_power_of_minimum_set_list(example_dict, min_dict)\n",
    "example_power_of_minimum_set_list"
   ]
  },
  {
   "cell_type": "code",
   "execution_count": 62,
   "metadata": {},
   "outputs": [
    {
     "name": "stdout",
     "output_type": "stream",
     "text": [
      "[600, 1008, 132, 630, 208, 408, 1890, 44, 1176, 1920]\n"
     ]
    },
    {
     "data": {
      "text/plain": [
       "66681"
      ]
     },
     "execution_count": 62,
     "metadata": {},
     "output_type": "execute_result"
    }
   ],
   "source": [
    "power_of_minimum_set_list = get_power_of_minimum_set_list(game_dict, min_dict)\n",
    "print(power_of_minimum_set_list[:10])\n",
    "answer = sum(power_of_minimum_set_list)\n",
    "answer"
   ]
  },
  {
   "cell_type": "code",
   "execution_count": null,
   "metadata": {},
   "outputs": [],
   "source": []
  }
 ],
 "metadata": {
  "kernelspec": {
   "display_name": "AoC",
   "language": "python",
   "name": "python3"
  },
  "language_info": {
   "codemirror_mode": {
    "name": "ipython",
    "version": 3
   },
   "file_extension": ".py",
   "mimetype": "text/x-python",
   "name": "python",
   "nbconvert_exporter": "python",
   "pygments_lexer": "ipython3",
   "version": "3.9.18"
  },
  "orig_nbformat": 4
 },
 "nbformat": 4,
 "nbformat_minor": 2
}

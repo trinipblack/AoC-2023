{
 "cells": [
  {
   "cell_type": "markdown",
   "metadata": {},
   "source": [
    "# DAY 1"
   ]
  },
  {
   "cell_type": "markdown",
   "metadata": {},
   "source": [
    "## --- Day 1: Trebuchet?! ---\n",
    "Something is wrong with global snow production, and you've been selected to take a look. The Elves have even given you a map; on it, they've used stars to mark the top fifty locations that are likely to be having problems.\n",
    "\n",
    "You've been doing this long enough to know that to restore snow operations, you need to check all fifty stars by December 25th.\n",
    "\n",
    "Collect stars by solving puzzles. Two puzzles will be made available on each day in the Advent calendar; the second puzzle is unlocked when you complete the first. Each puzzle grants one star. Good luck!\n",
    "\n",
    "You try to ask why they can't just use a weather machine (\"not powerful enough\") and where they're even sending you (\"the sky\") and why your map looks mostly blank (\"you sure ask a lot of questions\") and hang on did you just say the sky (\"of course, where do you think snow comes from\") when you realize that the Elves are already loading you into a trebuchet (\"please hold still, we need to strap you in\").\n",
    "\n",
    "As they're making the final adjustments, they discover that their calibration document (your puzzle input) has been amended by a very young Elf who was apparently just excited to show off her art skills. Consequently, the Elves are having trouble reading the values on the document.\n",
    "\n",
    "The newly-improved calibration document consists of lines of text; each line originally contained a specific calibration value that the Elves now need to recover. On each line, the calibration value can be found by combining the first digit and the last digit (in that order) to form a single two-digit number.\n",
    "\n",
    "For example:\n",
    "\n",
    "1abc2\n",
    "pqr3stu8vwx\n",
    "a1b2c3d4e5f\n",
    "treb7uchet\n",
    "In this example, the calibration values of these four lines are 12, 38, 15, and 77. Adding these together produces 142.\n",
    "\n",
    "Consider your entire calibration document. What is the sum of all of the calibration values?"
   ]
  },
  {
   "cell_type": "code",
   "execution_count": 1,
   "metadata": {},
   "outputs": [],
   "source": [
    "with open('../inputs/day-1.txt') as f:\n",
    "    raw_input = f.read()"
   ]
  },
  {
   "cell_type": "code",
   "execution_count": 5,
   "metadata": {},
   "outputs": [
    {
     "data": {
      "text/plain": [
       "['9sixsevenz3',\n",
       " 'seven1cvdvnhpgthfhfljmnq',\n",
       " '6tvxlgrsevenjvbxbfqrsk4seven',\n",
       " '9zml',\n",
       " '52sevenone',\n",
       " '41onevfsgvssxnpsix38four',\n",
       " '15ninedzhkpfstrscggbqhktwo',\n",
       " 'rxbfsvhpnjvsixmxfhhmvdvg26rgrfj43',\n",
       " 'gcbq2sghsv4fiveeightrlhchsfs2hsrjknfz',\n",
       " 'tworgqpdjzrzf7one']"
      ]
     },
     "execution_count": 5,
     "metadata": {},
     "output_type": "execute_result"
    }
   ],
   "source": [
    "input_lines = raw_input.split('\\n')\n",
    "input_lines[:10]"
   ]
  },
  {
   "cell_type": "code",
   "execution_count": 8,
   "metadata": {},
   "outputs": [
    {
     "data": {
      "text/plain": [
       "['93', '1', '64', '9', '52', '4138', '15', '2643', '242', '7']"
      ]
     },
     "execution_count": 8,
     "metadata": {},
     "output_type": "execute_result"
    }
   ],
   "source": [
    "just_digits = [''.join([n for n in line if n.isdigit()]) for line in input_lines]\n",
    "just_digits[:10]"
   ]
  },
  {
   "cell_type": "code",
   "execution_count": 21,
   "metadata": {},
   "outputs": [
    {
     "data": {
      "text/plain": [
       "''"
      ]
     },
     "execution_count": 21,
     "metadata": {},
     "output_type": "execute_result"
    }
   ],
   "source": [
    "just_digits.pop()"
   ]
  },
  {
   "cell_type": "code",
   "execution_count": 86,
   "metadata": {},
   "outputs": [
    {
     "data": {
      "text/plain": [
       "[93, 11, 64, 99, 52, 48, 15, 23, 22, 77]"
      ]
     },
     "execution_count": 86,
     "metadata": {},
     "output_type": "execute_result"
    }
   ],
   "source": [
    "def get_first_and_last(list_of_numbers):\n",
    "    return [int('{}{}'.format(number[0], number[-1])) for number in list_of_numbers]\n",
    "first_and_last = get_first_and_last(just_digits)\n",
    "first_and_last[:10]"
   ]
  },
  {
   "cell_type": "code",
   "execution_count": 87,
   "metadata": {},
   "outputs": [
    {
     "data": {
      "text/plain": [
       "54597"
      ]
     },
     "execution_count": 87,
     "metadata": {},
     "output_type": "execute_result"
    }
   ],
   "source": [
    "answer = sum(first_and_last)\n",
    "answer"
   ]
  },
  {
   "cell_type": "markdown",
   "metadata": {},
   "source": [
    "## --- Part Two ---\n",
    "Your calculation isn't quite right. It looks like some of the digits are actually spelled out with letters: one, two, three, four, five, six, seven, eight, and nine also count as valid \"digits\".\n",
    "\n",
    "Equipped with this new information, you now need to find the real first and last digit on each line. For example:\n",
    "\n",
    "```python\n",
    "two1nine\n",
    "eightwothree\n",
    "abcone2threexyz\n",
    "xtwone3four\n",
    "4nineeightseven2\n",
    "zoneight234\n",
    "7pqrstsixteen\n",
    "```\n",
    "\n",
    "\n",
    "In this example, the calibration values are 29, 83, 13, 24, 42, 14, and 76. Adding these together produces 281.\n",
    "\n",
    "What is the sum of all of the calibration values?"
   ]
  },
  {
   "cell_type": "code",
   "execution_count": 43,
   "metadata": {},
   "outputs": [],
   "source": [
    "example = ['two1nine',\n",
    "'eightwothree',\n",
    "'abcone2threexyz',\n",
    "'xtwone3four',\n",
    "'4nineeightseven2',\n",
    "'zoneight234',\n",
    "'7pqrstsixteen']"
   ]
  },
  {
   "cell_type": "code",
   "execution_count": 97,
   "metadata": {},
   "outputs": [],
   "source": [
    "number_map = {'one': 1, \n",
    "              'two': 2, \n",
    "              'three': 3, \n",
    "              'four': 4, \n",
    "              'five': 5, \n",
    "              'six' : 6, \n",
    "              'seven': 7,\n",
    "              'eight': 8,\n",
    "              'nine' : 9}"
   ]
  },
  {
   "cell_type": "code",
   "execution_count": 44,
   "metadata": {},
   "outputs": [
    {
     "data": {
      "text/plain": [
       "['219', 'eigh23', 'abc123xyz', 'xtw134', '49872', 'z1ight234', '7pqrst6teen']"
      ]
     },
     "execution_count": 44,
     "metadata": {},
     "output_type": "execute_result"
    }
   ],
   "source": [
    "# This doesn't work because it replaces in the order of the keys and not in the order they appear in the string\n",
    "def bad_replacement(list_of_lines, replacement_map):\n",
    "    replaced = []\n",
    "    for line in list_of_lines:\n",
    "        pre_rep = line\n",
    "        for key, value in replacement_map.items():\n",
    "            pre_rep = pre_rep.replace(key, str(value))\n",
    "        \n",
    "        replaced.append(pre_rep)\n",
    "    return replaced\n",
    "\n",
    "bad_replacement(example, number_map)"
   ]
  },
  {
   "cell_type": "code",
   "execution_count": 125,
   "metadata": {},
   "outputs": [
    {
     "name": "stdout",
     "output_type": "stream",
     "text": [
      "[29, 83, 13, 24, 42, 14, 76]\n",
      "281\n"
     ]
    }
   ],
   "source": [
    "import re\n",
    "def get_calibration_result(list_of_lines, replacement_map):\n",
    "    calibration_results = []\n",
    "    for line in list_of_lines:\n",
    "        \n",
    "        # written_numbers = {line.find(key) : value for key, value in replacement_map.items() if key in line} # this doesn't work if there are multiple occurrences of the same number\n",
    "        # digits = {line.find(char) : int(char) for char in line if char.isdigit()} # this doesn't work if there are multiple occurrences of the same number\n",
    "        \n",
    "        number_positions = {}\n",
    "        for key, value in replacement_map.items():\n",
    "            if key in line:\n",
    "                list_of_occurrence_positions = [number.start() for number in re.finditer(key, line)] # get a list with the position for each occurrence of the written number\n",
    "                written_numbers = {pos : value for pos in list_of_occurrence_positions} # build a dictionary with the position and the value of the written number\n",
    "                number_positions.update(written_numbers) # Update the dictionary with the new values\n",
    "            if str(value) in line:\n",
    "                list_of_occurrence_positions = [number.start() for number in re.finditer(str(value), line)]\n",
    "                digits = {pos : value for pos in list_of_occurrence_positions}\n",
    "                number_positions.update(digits) # Update the dictionary with the new values\n",
    "                    \n",
    "        sorted_num_pos = sorted(number_positions.items(), key=lambda x: x[0]) # sort the dictionary by the position of the number\n",
    "        if len(sorted_num_pos) > 0:\n",
    "            # line_calibration_answer = int('{}{}'.format(sorted_num_pos[0][1], sorted_num_pos[-1][1])) # get the first and last number and join them\n",
    "            line_calibration_answer = sorted_num_pos[0][1] * 10 + sorted_num_pos[-1][1] # alternative\n",
    "            \n",
    "            calibration_results.append(line_calibration_answer) # append the answer to the list\n",
    "        \n",
    "    total = sum(calibration_results) # sum the list\n",
    "    return calibration_results, total\n",
    "\n",
    "ex_list, ex_answer = get_calibration_result(example, number_map)\n",
    "print(ex_list, ex_answer, sep = '\\n')"
   ]
  },
  {
   "cell_type": "code",
   "execution_count": 126,
   "metadata": {},
   "outputs": [
    {
     "data": {
      "text/plain": [
       "54504"
      ]
     },
     "execution_count": 126,
     "metadata": {},
     "output_type": "execute_result"
    }
   ],
   "source": [
    "calibration_results, answer = get_calibration_result(input_lines, number_map)\n",
    "answer"
   ]
  },
  {
   "cell_type": "code",
   "execution_count": 127,
   "metadata": {},
   "outputs": [
    {
     "data": {
      "text/plain": [
       "[93, 71, 67, 99, 51, 44, 12, 63, 22, 21]"
      ]
     },
     "execution_count": 127,
     "metadata": {},
     "output_type": "execute_result"
    }
   ],
   "source": [
    "calibration_results[:10]"
   ]
  },
  {
   "cell_type": "code",
   "execution_count": 128,
   "metadata": {},
   "outputs": [
    {
     "data": {
      "text/plain": [
       "['9sixsevenz3',\n",
       " 'seven1cvdvnhpgthfhfljmnq',\n",
       " '6tvxlgrsevenjvbxbfqrsk4seven',\n",
       " '9zml',\n",
       " '52sevenone',\n",
       " '41onevfsgvssxnpsix38four',\n",
       " '15ninedzhkpfstrscggbqhktwo',\n",
       " 'rxbfsvhpnjvsixmxfhhmvdvg26rgrfj43',\n",
       " 'gcbq2sghsv4fiveeightrlhchsfs2hsrjknfz',\n",
       " 'tworgqpdjzrzf7one']"
      ]
     },
     "execution_count": 128,
     "metadata": {},
     "output_type": "execute_result"
    }
   ],
   "source": [
    "input_lines[:10]"
   ]
  },
  {
   "cell_type": "code",
   "execution_count": null,
   "metadata": {},
   "outputs": [],
   "source": []
  }
 ],
 "metadata": {
  "kernelspec": {
   "display_name": "AoC",
   "language": "python",
   "name": "python3"
  },
  "language_info": {
   "codemirror_mode": {
    "name": "ipython",
    "version": 3
   },
   "file_extension": ".py",
   "mimetype": "text/x-python",
   "name": "python",
   "nbconvert_exporter": "python",
   "pygments_lexer": "ipython3",
   "version": "3.9.18"
  },
  "orig_nbformat": 4
 },
 "nbformat": 4,
 "nbformat_minor": 2
}

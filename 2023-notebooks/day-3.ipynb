{
 "cells": [
  {
   "cell_type": "markdown",
   "metadata": {},
   "source": [
    "## DAY 3"
   ]
  },
  {
   "cell_type": "markdown",
   "metadata": {},
   "source": [
    "## --- Day 3: Gear Ratios ---\n",
    "You and the Elf eventually reach a gondola lift station; he says the gondola lift will take you up to the water source, but this is as far as he can bring you. You go inside.\n",
    "\n",
    "It doesn't take long to find the gondolas, but there seems to be a problem: they're not moving.\n",
    "\n",
    "\"Aaah!\"\n",
    "\n",
    "You turn around to see a slightly-greasy Elf with a wrench and a look of surprise. \"Sorry, I wasn't expecting anyone! The gondola lift isn't working right now; it'll still be a while before I can fix it.\" You offer to help.\n",
    "\n",
    "The engineer explains that an engine part seems to be missing from the engine, but nobody can figure out which one. If you can add up all the part numbers in the engine schematic, it should be easy to work out which part is missing.\n",
    "\n",
    "The engine schematic (your puzzle input) consists of a visual representation of the engine. There are lots of numbers and symbols you don't really understand, but apparently any number adjacent to a symbol, even diagonally, is a \"part number\" and should be included in your sum. (Periods (.) do not count as a symbol.)\n",
    "\n",
    "Here is an example engine schematic:\n",
    "\n",
    "```\n",
    "467..114..\n",
    "...*......\n",
    "..35..633.\n",
    "......#...\n",
    "617*......\n",
    ".....+.58.\n",
    "..592.....\n",
    "......755.\n",
    "...$.*....\n",
    ".664.598..\n",
    "```\n",
    "\n",
    "\n",
    "In this schematic, two numbers are not part numbers because they are not adjacent to a symbol: 114 (top right) and 58 (middle right). Every other number is adjacent to a symbol and so is a part number; their sum is 4361.\n",
    "\n",
    "Of course, the actual engine schematic is much larger. What is the sum of all of the part numbers in the engine schematic?"
   ]
  },
  {
   "cell_type": "code",
   "execution_count": 6,
   "metadata": {},
   "outputs": [],
   "source": [
    "import re"
   ]
  },
  {
   "cell_type": "code",
   "execution_count": 5,
   "metadata": {},
   "outputs": [
    {
     "name": "stdout",
     "output_type": "stream",
     "text": [
      ".....................................164.................429.35...........221....................................................34.........\n",
      "........................464...........*.................................../.......53*.....954.763.....................114*.764..............\n",
      "223............275.....................725.....$.........460....176............................*............+.................&.267.........\n",
      ".........854..........919.798...............541.....302...................723......$...............196.......275......$....@....*...+2...388\n",
      "..........@.......284*............429..211..........*..........633.............503..66......865.....*....234..........21....918.779..../....\n",
      "...71....................40...856*........*.......................*.....438.......*.................636.#......671......................404.\n",
      ".............585..........................866...971$.....869......548......#.456...907...146$.320%............+....*..354....*870...........\n",
      ".............\n"
     ]
    },
    {
     "data": {
      "text/plain": [
       "['.....................................164.................429.35...........221....................................................34.........',\n",
       " '........................464...........*.................................../.......53*.....954.763.....................114*.764..............',\n",
       " '223............275.....................725.....$.........460....176............................*............+.................&.267.........',\n",
       " '.........854..........919.798...............541.....302...................723......$...............196.......275......$....@....*...+2...388',\n",
       " '..........@.......284*............429..211..........*..........633.............503..66......865.....*....234..........21....918.779..../....',\n",
       " '...71....................40...856*........*.......................*.....438.......*.................636.#......671......................404.',\n",
       " '.............585..........................866...971$.....869......548......#.456...907...146$.320%............+....*..354....*870...........',\n",
       " '.........................334...75.800.....................*...746.....&......*..........................984.......174..%..417..........701..',\n",
       " '.....497...................*....*....$.......397=..620..671......*.852..656..616............................503...............#.......*.....',\n",
       " '.......*.....160.613....559...100......408............*.......574........+.........737......333...502.........&..937...395..21........58....']"
      ]
     },
     "execution_count": 5,
     "metadata": {},
     "output_type": "execute_result"
    }
   ],
   "source": [
    "with open('../inputs/day-3.txt') as f:\n",
    "    raw_input = f.read()\n",
    "print(raw_input[:1000])\n",
    "input_lines = raw_input.split('\\n')\n",
    "input_lines.pop()\n",
    "input_lines[:10]"
   ]
  },
  {
   "cell_type": "code",
   "execution_count": 41,
   "metadata": {},
   "outputs": [
    {
     "data": {
      "text/plain": [
       "140"
      ]
     },
     "execution_count": 41,
     "metadata": {},
     "output_type": "execute_result"
    }
   ],
   "source": [
    "len(input_lines[100])"
   ]
  },
  {
   "cell_type": "code",
   "execution_count": 83,
   "metadata": {},
   "outputs": [],
   "source": [
    "from collections import defaultdict "
   ]
  },
  {
   "cell_type": "code",
   "execution_count": 84,
   "metadata": {},
   "outputs": [
    {
     "ename": "TypeError",
     "evalue": "first argument must be callable or None",
     "output_type": "error",
     "traceback": [
      "\u001b[0;31m---------------------------------------------------------------------------\u001b[0m",
      "\u001b[0;31mTypeError\u001b[0m                                 Traceback (most recent call last)",
      "Cell \u001b[0;32mIn[84], line 1\u001b[0m\n\u001b[0;32m----> 1\u001b[0m schematic_dict \u001b[39m=\u001b[39m defaultdict(\u001b[39mFalse\u001b[39;49;00m)\n\u001b[1;32m      3\u001b[0m \u001b[39mfor\u001b[39;00m i, line \u001b[39min\u001b[39;00m \u001b[39menumerate\u001b[39m(input_lines):\n\u001b[1;32m      4\u001b[0m     list_of_numbers \u001b[39m=\u001b[39m re\u001b[39m.\u001b[39mfindall(\u001b[39mr\u001b[39m\u001b[39m'\u001b[39m\u001b[39m\\\u001b[39m\u001b[39md+\u001b[39m\u001b[39m'\u001b[39m, line)\n",
      "\u001b[0;31mTypeError\u001b[0m: first argument must be callable or None"
     ]
    }
   ],
   "source": [
    "schematic_dict = defaultdict(False)\n",
    "\n",
    "for i, line in enumerate(input_lines):\n",
    "    list_of_numbers = re.findall(r'\\d+', line)\n",
    "    reduced_line = line\n",
    "    start_point_in_original_line = 0\n",
    "    schematic_dict[i] = defaultdict(False)\n",
    "\n",
    "    for number in list_of_numbers:\n",
    "        occurrence_position_in_reduced_line = reduced_line.find(number)\n",
    "        num_len = len(number)\n",
    "        new_start_point = occurrence_position_in_reduced_line + num_len\n",
    "        reduced_line = reduced_line[new_start_point:]\n",
    "        occurrence_position = start_point_in_original_line + occurrence_position_in_reduced_line\n",
    "        start_point_in_original_line = new_start_point + start_point_in_original_line\n",
    "        \n",
    "        schematic_dict[i][occurrence_position] = {'number' : int(number),\n",
    "                                                  'len' : num_len,\n",
    "                                                  'init' : occurrence_position,\n",
    "                                                  'end' : occurrence_position + num_len - 1,\n",
    "                                                  'list_of_positions' : list(range(occurrence_position, occurrence_position + num_len))\n",
    "                                                  }\n",
    "        \n",
    "dict(list(schematic_dict.items())[:5])"
   ]
  },
  {
   "cell_type": "code",
   "execution_count": 85,
   "metadata": {},
   "outputs": [],
   "source": [
    "# Check if sorrounded by points\n",
    "\n",
    "# Check left and right = same line and init-1 or end+1\n",
    "# Check up and down = same init or end (and in number len) and line-1 or line+1\n",
    "# Check all diagonals = init-1 or end+1 in lines line-1 or line+1\n",
    "total_line_len = len(input_lines[0])\n",
    "list_of_nums = []\n",
    "for key, value in schematic_dict.items():\n",
    "    for num_init in value.keys():\n",
    "        num_end = value[num_init]['end']\n",
    "        # Check left and right\n",
    "        left_condition = (input_lines[key][num_init-1] == '.') if (num_init-1) >= 0 else True\n",
    "        right_condition = (input_lines[key][num_end+1] == '.') if (num_end+1) < total_line_len else True\n",
    "        # Check up and down and diagonals\n",
    "        up_condition = all([(input_lines[key-1][pos]  == '.') if (pos>=0 and pos<len(input_lines[key-1])) else True for pos in range(num_init-1, num_end+2)]) if (key-1) >= 0 else True\n",
    "        down_condition = all([input_lines[key+1][pos]  == '.' if (pos>=0 and pos<len(input_lines[key+1])) else True for pos in range(num_init-1, num_end+2)]) if (key+1) < len(input_lines) else True\n",
    "        \n",
    "        if not (left_condition and right_condition and up_condition and down_condition):\n",
    "            list_of_nums.append(value[num_init]['number'])\n",
    "        \n",
    "\n"
   ]
  },
  {
   "cell_type": "code",
   "execution_count": 86,
   "metadata": {},
   "outputs": [
    {
     "data": {
      "text/plain": [
       "546563"
      ]
     },
     "execution_count": 86,
     "metadata": {},
     "output_type": "execute_result"
    }
   ],
   "source": [
    "answer = sum(list_of_nums)\n",
    "answer"
   ]
  },
  {
   "cell_type": "markdown",
   "metadata": {},
   "source": [
    "## --- Part Two ---\n",
    "The engineer finds the missing part and installs it in the engine! As the engine springs to life, you jump in the closest gondola, finally ready to ascend to the water source.\n",
    "\n",
    "You don't seem to be going very fast, though. Maybe something is still wrong? Fortunately, the gondola has a phone labeled \"help\", so you pick it up and the engineer answers.\n",
    "\n",
    "Before you can explain the situation, she suggests that you look out the window. There stands the engineer, holding a phone in one hand and waving with the other. You're going so slowly that you haven't even left the station. You exit the gondola.\n",
    "\n",
    "The missing part wasn't the only issue - one of the gears in the engine is wrong. A gear is any * symbol that is adjacent to exactly two part numbers. Its gear ratio is the result of multiplying those two numbers together.\n",
    "\n",
    "This time, you need to find the gear ratio of every gear and add them all up so that the engineer can figure out which gear needs to be replaced.\n",
    "\n",
    "Consider the same engine schematic again:\n",
    "\n",
    "```python \n",
    "467..114..\n",
    "...*......\n",
    "..35..633.\n",
    "......#...\n",
    "617*......\n",
    ".....+.58.\n",
    "..592.....\n",
    "......755.\n",
    "...$.*....\n",
    ".664.598..\n",
    "```\n",
    "\n",
    "In this schematic, there are two gears. The first is in the top left; it has part numbers 467 and 35, so its gear ratio is 16345. The second gear is in the lower right; its gear ratio is 451490. (The * adjacent to 617 is not a gear because it is only adjacent to one part number.) Adding up all of the gear ratios produces 467835.\n",
    "\n",
    "What is the sum of all of the gear ratios in your engine schematic?"
   ]
  },
  {
   "cell_type": "code",
   "execution_count": 67,
   "metadata": {},
   "outputs": [
    {
     "data": {
      "text/plain": [
       "{0: [], 1: [38, 84, 121], 2: [95], 3: [128], 4: [21, 52, 100]}"
      ]
     },
     "execution_count": 67,
     "metadata": {},
     "output_type": "execute_result"
    }
   ],
   "source": [
    "possible_gear_dict = {}\n",
    "\n",
    "for i, line in enumerate(input_lines):\n",
    "    list_of_possible_gears = [number.start() for number in re.finditer(r'\\*', line)]\n",
    "    possible_gear_dict[i] = list_of_possible_gears\n",
    "        \n",
    "dict(list(possible_gear_dict.items())[:5])"
   ]
  },
  {
   "cell_type": "code",
   "execution_count": 61,
   "metadata": {},
   "outputs": [
    {
     "data": {
      "text/plain": [
       "['.....................................164.................429.35...........221....................................................34.........',\n",
       " '........................464...........*.................................../.......53*.....954.763.....................114*.764..............',\n",
       " '223............275.....................725.....$.........460....176............................*............+.................&.267.........',\n",
       " '.........854..........919.798...............541.....302...................723......$...............196.......275......$....@....*...+2...388',\n",
       " '..........@.......284*............429..211..........*..........633.............503..66......865.....*....234..........21....918.779..../....',\n",
       " '...71....................40...856*........*.......................*.....438.......*.................636.#......671......................404.',\n",
       " '.............585..........................866...971$.....869......548......#.456...907...146$.320%............+....*..354....*870...........',\n",
       " '.........................334...75.800.....................*...746.....&......*..........................984.......174..%..417..........701..',\n",
       " '.....497...................*....*....$.......397=..620..671......*.852..656..616............................503...............#.......*.....',\n",
       " '.......*.....160.613....559...100......408............*.......574........+.........737......333...502.........&..937...395..21........58....']"
      ]
     },
     "execution_count": 61,
     "metadata": {},
     "output_type": "execute_result"
    }
   ],
   "source": [
    "# Check if any digit is arround\n",
    "\n",
    "total_line_len = len(input_lines[0])\n",
    "gear = []\n",
    "for key, value in gear_dict.items():\n",
    "    for possible_gear_position in value:\n",
    "        # Check left and right\n",
    "        left_condition = (input_lines[key][possible_gear_position-1].isdigit()) if (possible_gear_position-1) >= 0 else True\n",
    "        right_condition = (input_lines[key][possible_gear_position+1].isdigit()) if (possible_gear_position+1) < total_line_len else True\n",
    "        # Check up and down and diagonals\n",
    "        up_condition = all([(input_lines[key-1][pos]  == '.') if (pos>=0 and pos<len(input_lines[key-1])) else True for pos in range(num_init-1, num_end+2)]) if (key-1) >= 0 else True\n",
    "        down_condition = all([input_lines[key+1][pos]  == '.' if (pos>=0 and pos<len(input_lines[key+1])) else True for pos in range(num_init-1, num_end+2)]) if (key+1) < len(input_lines) else True\n",
    "        \n",
    "        if not (left_condition and right_condition and up_condition and down_condition):\n",
    "            list_of_nums.append(value[num_init]['number'])\n",
    "        \n",
    "\n"
   ]
  },
  {
   "cell_type": "code",
   "execution_count": 70,
   "metadata": {},
   "outputs": [
    {
     "data": {
      "text/plain": [
       "True"
      ]
     },
     "execution_count": 70,
     "metadata": {},
     "output_type": "execute_result"
    }
   ],
   "source": [
    "input_lines[0][38].isnumeric()"
   ]
  },
  {
   "cell_type": "code",
   "execution_count": 111,
   "metadata": {},
   "outputs": [],
   "source": [
    "total_line_len = len(input_lines[0])\n",
    "dict_of_possible_gear_positions = defaultdict(lambda: False)\n",
    "for key, value in schematic_dict.items():\n",
    "    for num_init in value.keys():\n",
    "        num_end = value[num_init]['end']\n",
    "        # Check left and right\n",
    "        for pos in [num_init-1, num_end+1]:\n",
    "            if pos >= 0 and pos < total_line_len:\n",
    "                if input_lines[key][pos] == '*':\n",
    "                    if dict_of_possible_gear_positions[(key, pos)]:\n",
    "                        dict_of_possible_gear_positions[(key, pos)].append(value[num_init]['number'])\n",
    "                    else:\n",
    "                        dict_of_possible_gear_positions[(key, pos)] = [value[num_init]['number']]            \n",
    "            \n",
    "        # Check up and down and diagonals\n",
    "        for pos in range(num_init-1, num_end+2):\n",
    "            for line in [key-1, key+1]:\n",
    "                if line >= 0 and line < len(input_lines):\n",
    "                    if pos >= 0 and pos < len(input_lines[line]):\n",
    "                        if input_lines[line][pos] == '*':\n",
    "                            if dict_of_possible_gear_positions[(line, pos)]:\n",
    "                                dict_of_possible_gear_positions[(line, pos)].append(value[num_init]['number'])\n",
    "                            else:\n",
    "                                dict_of_possible_gear_positions[(line, pos)] = [value[num_init]['number']]"
   ]
  },
  {
   "cell_type": "code",
   "execution_count": 112,
   "metadata": {},
   "outputs": [
    {
     "data": {
      "text/plain": [
       "{(1, 38): [164, 725],\n",
       " (1, 84): [53],\n",
       " (2, 95): [763],\n",
       " (1, 121): [114],\n",
       " (3, 128): [267, 779],\n",
       " (4, 21): [919, 284],\n",
       " (4, 52): [302],\n",
       " (4, 100): [196, 636],\n",
       " (5, 33): [429, 856],\n",
       " (5, 42): [211, 866]}"
      ]
     },
     "execution_count": 112,
     "metadata": {},
     "output_type": "execute_result"
    }
   ],
   "source": [
    "dict(list(dict_of_possible_gear_positions.items())[:10])"
   ]
  },
  {
   "cell_type": "code",
   "execution_count": 114,
   "metadata": {},
   "outputs": [
    {
     "data": {
      "text/plain": [
       "[118900,\n",
       " 207993,\n",
       " 260996,\n",
       " 124656,\n",
       " 367224,\n",
       " 182726,\n",
       " 346884,\n",
       " 456221,\n",
       " 583099,\n",
       " 280896]"
      ]
     },
     "execution_count": 114,
     "metadata": {},
     "output_type": "execute_result"
    }
   ],
   "source": [
    "import math \n",
    "gear_ratios_list = [math.prod(value) for value in dict_of_possible_gear_positions.values() if len(value) > 1]\n",
    "gear_ratios_list[:10]"
   ]
  },
  {
   "cell_type": "code",
   "execution_count": 115,
   "metadata": {},
   "outputs": [
    {
     "data": {
      "text/plain": [
       "91031374"
      ]
     },
     "execution_count": 115,
     "metadata": {},
     "output_type": "execute_result"
    }
   ],
   "source": [
    "answer = sum(gear_ratios_list)\n",
    "answer"
   ]
  },
  {
   "cell_type": "code",
   "execution_count": null,
   "metadata": {},
   "outputs": [],
   "source": []
  }
 ],
 "metadata": {
  "kernelspec": {
   "display_name": "AoC",
   "language": "python",
   "name": "python3"
  },
  "language_info": {
   "codemirror_mode": {
    "name": "ipython",
    "version": 3
   },
   "file_extension": ".py",
   "mimetype": "text/x-python",
   "name": "python",
   "nbconvert_exporter": "python",
   "pygments_lexer": "ipython3",
   "version": "3.9.18"
  },
  "orig_nbformat": 4
 },
 "nbformat": 4,
 "nbformat_minor": 2
}

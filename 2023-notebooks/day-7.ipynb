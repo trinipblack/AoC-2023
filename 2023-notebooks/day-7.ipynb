{
 "cells": [
  {
   "cell_type": "markdown",
   "metadata": {},
   "source": [
    "# DAY 7"
   ]
  },
  {
   "cell_type": "markdown",
   "metadata": {},
   "source": [
    "--- Day 7: Camel Cards ---\n",
    "Your all-expenses-paid trip turns out to be a one-way, five-minute ride in an airship. (At least it's a cool airship!) It drops you off at the edge of a vast desert and descends back to Island Island.\n",
    "\n",
    "\"Did you bring the parts?\"\n",
    "\n",
    "You turn around to see an Elf completely covered in white clothing, wearing goggles, and riding a large camel.\n",
    "\n",
    "\"Did you bring the parts?\" she asks again, louder this time. You aren't sure what parts she's looking for; you're here to figure out why the sand stopped.\n",
    "\n",
    "\"The parts! For the sand, yes! Come with me; I will show you.\" She beckons you onto the camel.\n",
    "\n",
    "After riding a bit across the sands of Desert Island, you can see what look like very large rocks covering half of the horizon. The Elf explains that the rocks are all along the part of Desert Island that is directly above Island Island, making it hard to even get there. Normally, they use big machines to move the rocks and filter the sand, but the machines have broken down because Desert Island recently stopped receiving the parts they need to fix the machines.\n",
    "\n",
    "You've already assumed it'll be your job to figure out why the parts stopped when she asks if you can help. You agree automatically.\n",
    "\n",
    "Because the journey will take a few days, she offers to teach you the game of Camel Cards. Camel Cards is sort of similar to poker except it's designed to be easier to play while riding a camel.\n",
    "\n",
    "In Camel Cards, you get a list of hands, and your goal is to order them based on the strength of each hand. A hand consists of five cards labeled one of A, K, Q, J, T, 9, 8, 7, 6, 5, 4, 3, or 2. The relative strength of each card follows this order, where A is the highest and 2 is the lowest.\n",
    "\n",
    "Every hand is exactly one type. From strongest to weakest, they are:\n",
    "\n",
    "Five of a kind, where all five cards have the same label: AAAAA\n",
    "Four of a kind, where four cards have the same label and one card has a different label: AA8AA\n",
    "Full house, where three cards have the same label, and the remaining two cards share a different label: 23332\n",
    "Three of a kind, where three cards have the same label, and the remaining two cards are each different from any other card in the hand: TTT98\n",
    "Two pair, where two cards share one label, two other cards share a second label, and the remaining card has a third label: 23432\n",
    "One pair, where two cards share one label, and the other three cards have a different label from the pair and each other: A23A4\n",
    "High card, where all cards' labels are distinct: 23456\n",
    "Hands are primarily ordered based on type; for example, every full house is stronger than any three of a kind.\n",
    "\n",
    "If two hands have the same type, a second ordering rule takes effect. Start by comparing the first card in each hand. If these cards are different, the hand with the stronger first card is considered stronger. If the first card in each hand have the same label, however, then move on to considering the second card in each hand. If they differ, the hand with the higher second card wins; otherwise, continue with the third card in each hand, then the fourth, then the fifth.\n",
    "\n",
    "So, 33332 and 2AAAA are both four of a kind hands, but 33332 is stronger because its first card is stronger. Similarly, 77888 and 77788 are both a full house, but 77888 is stronger because its third card is stronger (and both hands have the same first and second card).\n",
    "\n",
    "To play Camel Cards, you are given a list of hands and their corresponding bid (your puzzle input). For example:\n",
    "\n",
    "32T3K 765\n",
    "T55J5 684\n",
    "KK677 28\n",
    "KTJJT 220\n",
    "QQQJA 483\n",
    "This example shows five hands; each hand is followed by its bid amount. Each hand wins an amount equal to its bid multiplied by its rank, where the weakest hand gets rank 1, the second-weakest hand gets rank 2, and so on up to the strongest hand. Because there are five hands in this example, the strongest hand will have rank 5 and its bid will be multiplied by 5.\n",
    "\n",
    "So, the first step is to put the hands in order of strength:\n",
    "\n",
    "32T3K is the only one pair and the other hands are all a stronger type, so it gets rank 1.\n",
    "KK677 and KTJJT are both two pair. Their first cards both have the same label, but the second card of KK677 is stronger (K vs T), so KTJJT gets rank 2 and KK677 gets rank 3.\n",
    "T55J5 and QQQJA are both three of a kind. QQQJA has a stronger first card, so it gets rank 5 and T55J5 gets rank 4.\n",
    "Now, you can determine the total winnings of this set of hands by adding up the result of multiplying each hand's bid with its rank (765 * 1 + 220 * 2 + 28 * 3 + 684 * 4 + 483 * 5). So the total winnings in this example are 6440.\n",
    "\n",
    "Find the rank of every hand in your set. What are the total winnings?"
   ]
  },
  {
   "cell_type": "code",
   "execution_count": 1,
   "metadata": {},
   "outputs": [],
   "source": [
    "raw_example = '''32T3K 765\n",
    "T55J5 684\n",
    "KK677 28\n",
    "KTJJT 220\n",
    "QQQJA 483'''"
   ]
  },
  {
   "cell_type": "code",
   "execution_count": 2,
   "metadata": {},
   "outputs": [
    {
     "name": "stdout",
     "output_type": "stream",
     "text": [
      "398KA 456\n",
      "2J299 282\n",
      "8939K 547\n",
      "9TAA9 79\n",
      "47TJ4 431\n",
      "KJKKK 262\n",
      "9Q75Q 826\n",
      "JK9T3 213\n",
      "82J22 956\n",
      "T9QTT 251\n",
      "93392 669\n",
      "Q266J 278\n",
      "682J6 385\n",
      "33773 799\n",
      "33233 648\n",
      "9\n"
     ]
    }
   ],
   "source": [
    "with open('../inputs/day-7.txt') as f:\n",
    "    raw_input = f.read()\n",
    "print(raw_input[:150])"
   ]
  },
  {
   "cell_type": "code",
   "execution_count": 3,
   "metadata": {},
   "outputs": [
    {
     "data": {
      "text/plain": [
       "[{'hand': '32T3K', 'bid': '765'},\n",
       " {'hand': 'T55J5', 'bid': '684'},\n",
       " {'hand': 'KK677', 'bid': '28'},\n",
       " {'hand': 'KTJJT', 'bid': '220'},\n",
       " {'hand': 'QQQJA', 'bid': '483'}]"
      ]
     },
     "execution_count": 3,
     "metadata": {},
     "output_type": "execute_result"
    }
   ],
   "source": [
    "def pre_process(raw):\n",
    "    return [{'hand' :  line.split(' ')[0], 'bid' :  line.split(' ')[1]} for line in raw.split('\\n')]\n",
    "\n",
    "example_info = pre_process(raw_example)\n",
    "example_info"
   ]
  },
  {
   "cell_type": "code",
   "execution_count": 4,
   "metadata": {},
   "outputs": [
    {
     "data": {
      "text/plain": [
       "[{'hand': '398KA', 'bid': '456'},\n",
       " {'hand': '2J299', 'bid': '282'},\n",
       " {'hand': '8939K', 'bid': '547'},\n",
       " {'hand': '9TAA9', 'bid': '79'},\n",
       " {'hand': '47TJ4', 'bid': '431'},\n",
       " {'hand': 'KJKKK', 'bid': '262'},\n",
       " {'hand': '9Q75Q', 'bid': '826'},\n",
       " {'hand': 'JK9T3', 'bid': '213'},\n",
       " {'hand': '82J22', 'bid': '956'},\n",
       " {'hand': 'T9QTT', 'bid': '251'}]"
      ]
     },
     "execution_count": 4,
     "metadata": {},
     "output_type": "execute_result"
    }
   ],
   "source": [
    "game_info = pre_process(raw_input)\n",
    "game_info[:10]"
   ]
  },
  {
   "cell_type": "code",
   "execution_count": 5,
   "metadata": {},
   "outputs": [],
   "source": [
    "labels = [\"A\", \"K\", \"Q\", \"J\", \"T\", \"9\", \"8\", \"7\", \"6\", \"5\", \"4\", \"3\", \"2\"]\n",
    "kinds = ['five', 'four', 'full_house', 'three', 'two_pair', 'pair', 'high_card']"
   ]
  },
  {
   "cell_type": "code",
   "execution_count": 6,
   "metadata": {},
   "outputs": [
    {
     "data": {
      "text/plain": [
       "[5, 1, 2]"
      ]
     },
     "execution_count": 6,
     "metadata": {},
     "output_type": "execute_result"
    }
   ],
   "source": [
    "a = 'AAAABBAC'\n",
    "[a.count(char) for char in set(a)]"
   ]
  },
  {
   "cell_type": "code",
   "execution_count": 7,
   "metadata": {},
   "outputs": [
    {
     "data": {
      "text/plain": [
       "2"
      ]
     },
     "execution_count": 7,
     "metadata": {},
     "output_type": "execute_result"
    }
   ],
   "source": [
    "[5,5,1].count(5)"
   ]
  },
  {
   "cell_type": "code",
   "execution_count": 8,
   "metadata": {},
   "outputs": [
    {
     "data": {
      "text/plain": [
       "[{'hand': '32T3K', 'bid': '765', 'type': 'pair'},\n",
       " {'hand': 'T55J5', 'bid': '684', 'type': 'three'},\n",
       " {'hand': 'KK677', 'bid': '28', 'type': 'two_pair'},\n",
       " {'hand': 'KTJJT', 'bid': '220', 'type': 'two_pair'},\n",
       " {'hand': 'QQQJA', 'bid': '483', 'type': 'three'}]"
      ]
     },
     "execution_count": 8,
     "metadata": {},
     "output_type": "execute_result"
    }
   ],
   "source": [
    "def check_type(hand):\n",
    "    set_of_chars = set(hand)\n",
    "    counts = [hand.count(char) for char in set_of_chars]\n",
    "    if 5 in counts:\n",
    "        return 'five'\n",
    "    elif 4 in counts:\n",
    "        return 'four'\n",
    "    elif (3 in counts and 2 in counts):\n",
    "        return 'full_house'\n",
    "    elif 3 in counts:\n",
    "        return 'three'\n",
    "    elif counts.count(2) == 2:\n",
    "        return 'two_pair'\n",
    "    elif counts.count(2) == 1:\n",
    "        return 'pair'\n",
    "    else:\n",
    "        return 'high_card'\n",
    "    \n",
    "def add_type(game_list_input):\n",
    "    game_list = game_list_input.copy()\n",
    "    for game in game_list:\n",
    "        game['type'] = check_type(game['hand'])\n",
    "    return game_list\n",
    "\n",
    "add_type(example_info)"
   ]
  },
  {
   "cell_type": "code",
   "execution_count": 9,
   "metadata": {},
   "outputs": [
    {
     "data": {
      "text/plain": [
       "[{'hand': '398KA', 'bid': '456', 'type': 'high_card'},\n",
       " {'hand': '2J299', 'bid': '282', 'type': 'two_pair'},\n",
       " {'hand': '8939K', 'bid': '547', 'type': 'pair'},\n",
       " {'hand': '9TAA9', 'bid': '79', 'type': 'two_pair'},\n",
       " {'hand': '47TJ4', 'bid': '431', 'type': 'pair'},\n",
       " {'hand': 'KJKKK', 'bid': '262', 'type': 'four'},\n",
       " {'hand': '9Q75Q', 'bid': '826', 'type': 'pair'},\n",
       " {'hand': 'JK9T3', 'bid': '213', 'type': 'high_card'},\n",
       " {'hand': '82J22', 'bid': '956', 'type': 'three'},\n",
       " {'hand': 'T9QTT', 'bid': '251', 'type': 'three'}]"
      ]
     },
     "execution_count": 9,
     "metadata": {},
     "output_type": "execute_result"
    }
   ],
   "source": [
    "game_info_type = add_type(game_info)\n",
    "game_info_type[:10]"
   ]
  },
  {
   "cell_type": "code",
   "execution_count": 10,
   "metadata": {},
   "outputs": [
    {
     "data": {
      "text/plain": [
       "[{'hand': 'QQQJA', 'bid': '483', 'type': 'three'},\n",
       " {'hand': 'T55J5', 'bid': '684', 'type': 'three'},\n",
       " {'hand': 'KK677', 'bid': '28', 'type': 'two_pair'},\n",
       " {'hand': 'KTJJT', 'bid': '220', 'type': 'two_pair'},\n",
       " {'hand': '32T3K', 'bid': '765', 'type': 'pair'}]"
      ]
     },
     "execution_count": 10,
     "metadata": {},
     "output_type": "execute_result"
    }
   ],
   "source": [
    "def sort_games_by_kind(game_list_input, kinds):\n",
    "    game_list = game_list_input.copy()\n",
    "    return sorted(game_list, key=lambda x: kinds.index(x['type']))\n",
    "\n",
    "def sort_games_by_label(game_list_input, labels_order):\n",
    "    game_list = game_list_input.copy()\n",
    "    game_list = sorted(game_list, key=lambda x: (labels_order.index(x['hand'][0]), \n",
    "                                                 labels_order.index(x['hand'][1]),\n",
    "                                                 labels_order.index(x['hand'][2]),\n",
    "                                                 labels_order.index(x['hand'][3]),\n",
    "                                                 labels_order.index(x['hand'][4])\n",
    "                                                 ) \n",
    "                       \n",
    "                       )  \n",
    "    return game_list\n",
    "\n",
    "sorted_example_games = sort_games_by_kind(sort_games_by_label(example_info, labels), kinds)\n",
    "sorted_example_games"
   ]
  },
  {
   "cell_type": "code",
   "execution_count": 12,
   "metadata": {},
   "outputs": [
    {
     "data": {
      "text/plain": [
       "[{'hand': 'JJJJJ', 'bid': '356', 'type': 'five'},\n",
       " {'hand': 'AAAAJ', 'bid': '690', 'type': 'four'},\n",
       " {'hand': 'AAAA7', 'bid': '303', 'type': 'four'},\n",
       " {'hand': 'AAAA5', 'bid': '114', 'type': 'four'},\n",
       " {'hand': 'AAA8A', 'bid': '887', 'type': 'four'},\n",
       " {'hand': 'AA4AA', 'bid': '77', 'type': 'four'},\n",
       " {'hand': 'ATAAA', 'bid': '362', 'type': 'four'},\n",
       " {'hand': 'A7777', 'bid': '301', 'type': 'four'},\n",
       " {'hand': 'A6AAA', 'bid': '36', 'type': 'four'},\n",
       " {'hand': 'A3AAA', 'bid': '745', 'type': 'four'}]"
      ]
     },
     "execution_count": 12,
     "metadata": {},
     "output_type": "execute_result"
    }
   ],
   "source": [
    "sorted_games = sort_games_by_kind(sort_games_by_label(game_info_type, labels), kinds)\n",
    "sorted_games[:10]"
   ]
  },
  {
   "cell_type": "code",
   "execution_count": 29,
   "metadata": {},
   "outputs": [],
   "source": [
    "def get_rank(sorted_games_list_input):\n",
    "    sorted_games_list = [i for i in sorted_games_list_input]\n",
    "    sorted_games_list.reverse()\n",
    "    for i, game in enumerate(sorted_games_list):\n",
    "        game['rank'] = i + 1\n",
    "    return sorted_games_list\n",
    "\n",
    "def get_points(ranked_games_list_input):\n",
    "    ranked_games_list = ranked_games_list_input.copy()\n",
    "    for game in ranked_games_list:\n",
    "        game['points'] = int(game['bid']) * game['rank']\n",
    "\n",
    "    list_of_points = [game['points'] for game in ranked_games_list]\n",
    "    return sum(list_of_points)"
   ]
  },
  {
   "cell_type": "code",
   "execution_count": 14,
   "metadata": {},
   "outputs": [
    {
     "data": {
      "text/plain": [
       "[{'hand': '32T3K', 'bid': '765', 'type': 'pair', 'rank': 1},\n",
       " {'hand': 'KTJJT', 'bid': '220', 'type': 'two_pair', 'rank': 2},\n",
       " {'hand': 'KK677', 'bid': '28', 'type': 'two_pair', 'rank': 3},\n",
       " {'hand': 'T55J5', 'bid': '684', 'type': 'three', 'rank': 4},\n",
       " {'hand': 'QQQJA', 'bid': '483', 'type': 'three', 'rank': 5}]"
      ]
     },
     "execution_count": 14,
     "metadata": {},
     "output_type": "execute_result"
    }
   ],
   "source": [
    "ranked_example = get_rank(sorted_example_games)\n",
    "ranked_example"
   ]
  },
  {
   "cell_type": "code",
   "execution_count": 15,
   "metadata": {},
   "outputs": [
    {
     "data": {
      "text/plain": [
       "6440"
      ]
     },
     "execution_count": 15,
     "metadata": {},
     "output_type": "execute_result"
    }
   ],
   "source": [
    "get_points(ranked_example)"
   ]
  },
  {
   "cell_type": "code",
   "execution_count": 16,
   "metadata": {},
   "outputs": [
    {
     "data": {
      "text/plain": [
       "[{'hand': '23J56', 'bid': '453', 'type': 'high_card', 'rank': 1},\n",
       " {'hand': '265K8', 'bid': '511', 'type': 'high_card', 'rank': 2},\n",
       " {'hand': '26957', 'bid': '462', 'type': 'high_card', 'rank': 3},\n",
       " {'hand': '2785J', 'bid': '351', 'type': 'high_card', 'rank': 4},\n",
       " {'hand': '28K3T', 'bid': '717', 'type': 'high_card', 'rank': 5},\n",
       " {'hand': '293TA', 'bid': '789', 'type': 'high_card', 'rank': 6},\n",
       " {'hand': '2946T', 'bid': '338', 'type': 'high_card', 'rank': 7},\n",
       " {'hand': '29854', 'bid': '749', 'type': 'high_card', 'rank': 8},\n",
       " {'hand': '2T74J', 'bid': '64', 'type': 'high_card', 'rank': 9},\n",
       " {'hand': '2Q845', 'bid': '139', 'type': 'high_card', 'rank': 10}]"
      ]
     },
     "execution_count": 16,
     "metadata": {},
     "output_type": "execute_result"
    }
   ],
   "source": [
    "ranked_games = get_rank(sorted_games)\n",
    "ranked_games[:10]"
   ]
  },
  {
   "cell_type": "code",
   "execution_count": 17,
   "metadata": {},
   "outputs": [
    {
     "data": {
      "text/plain": [
       "250957639"
      ]
     },
     "execution_count": 17,
     "metadata": {},
     "output_type": "execute_result"
    }
   ],
   "source": [
    "get_points(ranked_games)"
   ]
  },
  {
   "cell_type": "markdown",
   "metadata": {},
   "source": [
    "## --- Part Two ---\n",
    "To make things a little more interesting, the Elf introduces one additional rule. Now, J cards are jokers - wildcards that can act like whatever card would make the hand the strongest type possible.\n",
    "\n",
    "To balance this, J cards are now the weakest individual cards, weaker even than 2. The other cards stay in the same order: A, K, Q, T, 9, 8, 7, 6, 5, 4, 3, 2, J.\n",
    "\n",
    "J cards can pretend to be whatever card is best for the purpose of determining hand type; for example, QJJQ2 is now considered four of a kind. However, for the purpose of breaking ties between two hands of the same type, J is always treated as J, not the card it's pretending to be: JKKK2 is weaker than QQQQ2 because J is weaker than Q.\n",
    "\n",
    "Now, the above example goes very differently:\n",
    "\n",
    "32T3K 765\n",
    "T55J5 684\n",
    "KK677 28\n",
    "KTJJT 220\n",
    "QQQJA 483\n",
    "32T3K is still the only one pair; it doesn't contain any jokers, so its strength doesn't increase.\n",
    "KK677 is now the only two pair, making it the second-weakest hand.\n",
    "T55J5, KTJJT, and QQQJA are now all four of a kind! T55J5 gets rank 3, QQQJA gets rank 4, and KTJJT gets rank 5.\n",
    "With the new joker rule, the total winnings in this example are 5905.\n",
    "\n",
    "Using the new joker rule, find the rank of every hand in your set. What are the new total winnings?"
   ]
  },
  {
   "cell_type": "code",
   "execution_count": 18,
   "metadata": {},
   "outputs": [],
   "source": [
    "labels_new = [\"A\", \"K\", \"Q\", \"T\", \"9\", \"8\", \"7\", \"6\", \"5\", \"4\", \"3\", \"2\", \"J\"]"
   ]
  },
  {
   "cell_type": "code",
   "execution_count": 36,
   "metadata": {},
   "outputs": [
    {
     "data": {
      "text/plain": [
       "[{'hand': '32T3K', 'bid': '765', 'type': 'pair'},\n",
       " {'hand': 'T55J5', 'bid': '684', 'type': 'four'},\n",
       " {'hand': 'KK677', 'bid': '28', 'type': 'two_pair'},\n",
       " {'hand': 'KTJJT', 'bid': '220', 'type': 'four'},\n",
       " {'hand': 'QQQJA', 'bid': '483', 'type': 'four'}]"
      ]
     },
     "execution_count": 36,
     "metadata": {},
     "output_type": "execute_result"
    }
   ],
   "source": [
    "def check_type_new_rule(hand):\n",
    "    set_of_chars = set(hand)\n",
    "    counts = [hand.count(char) for char in set_of_chars if char != \"J\"]\n",
    "    J_count = hand.count(\"J\")\n",
    "    for i in range(len(counts)):\n",
    "        if counts[i] == max(counts):\n",
    "            counts[i] = counts[i] + J_count\n",
    "            break\n",
    "    if (5 in counts) or (J_count == 5):\n",
    "        return 'five'\n",
    "    elif 4 in counts:\n",
    "        return 'four'\n",
    "    elif (3 in counts and 2 in counts):\n",
    "        return 'full_house'\n",
    "    elif 3 in counts:\n",
    "        return 'three'\n",
    "    elif counts.count(2) == 2:\n",
    "        return 'two_pair'\n",
    "    elif counts.count(2) == 1:\n",
    "        return 'pair'\n",
    "    else:\n",
    "        return 'high_card'\n",
    "    \n",
    "def add_type_new_rule(game_list_input):\n",
    "    game_list = game_list_input.copy()\n",
    "    for game in game_list:\n",
    "        game['type'] = check_type_new_rule(game['hand'])\n",
    "    return game_list\n",
    "\n",
    "example_info_new_rule = add_type_new_rule(pre_process(raw_example))\n",
    "example_info_new_rule"
   ]
  },
  {
   "cell_type": "code",
   "execution_count": 35,
   "metadata": {},
   "outputs": [
    {
     "data": {
      "text/plain": [
       "'five'"
      ]
     },
     "execution_count": 35,
     "metadata": {},
     "output_type": "execute_result"
    }
   ],
   "source": [
    "check_type_new_rule('JJJJA')"
   ]
  },
  {
   "cell_type": "code",
   "execution_count": 20,
   "metadata": {},
   "outputs": [
    {
     "data": {
      "text/plain": [
       "[{'hand': 'KTJJT', 'bid': '220', 'type': 'four'},\n",
       " {'hand': 'QQQJA', 'bid': '483', 'type': 'four'},\n",
       " {'hand': 'T55J5', 'bid': '684', 'type': 'four'},\n",
       " {'hand': 'KK677', 'bid': '28', 'type': 'two_pair'},\n",
       " {'hand': '32T3K', 'bid': '765', 'type': 'pair'}]"
      ]
     },
     "execution_count": 20,
     "metadata": {},
     "output_type": "execute_result"
    }
   ],
   "source": [
    "sorted_example_games = sort_games_by_kind(sort_games_by_label(example_info_new_rule, labels_new), kinds)\n",
    "sorted_example_games"
   ]
  },
  {
   "cell_type": "code",
   "execution_count": 21,
   "metadata": {},
   "outputs": [
    {
     "data": {
      "text/plain": [
       "5905"
      ]
     },
     "execution_count": 21,
     "metadata": {},
     "output_type": "execute_result"
    }
   ],
   "source": [
    "get_points(get_rank(sorted_example_games))"
   ]
  },
  {
   "cell_type": "code",
   "execution_count": 37,
   "metadata": {},
   "outputs": [
    {
     "data": {
      "text/plain": [
       "[{'hand': '398KA', 'bid': '456', 'type': 'high_card'},\n",
       " {'hand': '2J299', 'bid': '282', 'type': 'full_house'},\n",
       " {'hand': '8939K', 'bid': '547', 'type': 'pair'},\n",
       " {'hand': '9TAA9', 'bid': '79', 'type': 'two_pair'},\n",
       " {'hand': '47TJ4', 'bid': '431', 'type': 'three'},\n",
       " {'hand': 'KJKKK', 'bid': '262', 'type': 'five'},\n",
       " {'hand': '9Q75Q', 'bid': '826', 'type': 'pair'},\n",
       " {'hand': 'JK9T3', 'bid': '213', 'type': 'pair'},\n",
       " {'hand': '82J22', 'bid': '956', 'type': 'four'},\n",
       " {'hand': 'T9QTT', 'bid': '251', 'type': 'three'}]"
      ]
     },
     "execution_count": 37,
     "metadata": {},
     "output_type": "execute_result"
    }
   ],
   "source": [
    "info_new_rule = add_type_new_rule(pre_process(raw_input))\n",
    "info_new_rule[:10]"
   ]
  },
  {
   "cell_type": "code",
   "execution_count": 38,
   "metadata": {},
   "outputs": [
    {
     "data": {
      "text/plain": [
       "[{'hand': 'AAAAJ', 'bid': '690', 'type': 'five'},\n",
       " {'hand': 'AJAAJ', 'bid': '235', 'type': 'five'},\n",
       " {'hand': 'KKKJJ', 'bid': '971', 'type': 'five'},\n",
       " {'hand': 'KJKKK', 'bid': '262', 'type': 'five'},\n",
       " {'hand': 'TTTJT', 'bid': '315', 'type': 'five'},\n",
       " {'hand': 'TJTTJ', 'bid': '999', 'type': 'five'},\n",
       " {'hand': '99J9J', 'bid': '205', 'type': 'five'},\n",
       " {'hand': '9J999', 'bid': '543', 'type': 'five'},\n",
       " {'hand': '8J8J8', 'bid': '179', 'type': 'five'},\n",
       " {'hand': '8JJJJ', 'bid': '842', 'type': 'five'}]"
      ]
     },
     "execution_count": 38,
     "metadata": {},
     "output_type": "execute_result"
    }
   ],
   "source": [
    "sorted_games_new_rule = sort_games_by_kind(sort_games_by_label(info_new_rule, labels_new), kinds)\n",
    "sorted_games_new_rule[:10]"
   ]
  },
  {
   "cell_type": "code",
   "execution_count": 39,
   "metadata": {},
   "outputs": [
    {
     "data": {
      "text/plain": [
       "[{'hand': '265K8', 'bid': '511', 'type': 'high_card', 'rank': 1},\n",
       " {'hand': '26957', 'bid': '462', 'type': 'high_card', 'rank': 2},\n",
       " {'hand': '28K3T', 'bid': '717', 'type': 'high_card', 'rank': 3},\n",
       " {'hand': '293TA', 'bid': '789', 'type': 'high_card', 'rank': 4},\n",
       " {'hand': '2946T', 'bid': '338', 'type': 'high_card', 'rank': 5},\n",
       " {'hand': '29854', 'bid': '749', 'type': 'high_card', 'rank': 6},\n",
       " {'hand': '2Q845', 'bid': '139', 'type': 'high_card', 'rank': 7},\n",
       " {'hand': '2QKA8', 'bid': '764', 'type': 'high_card', 'rank': 8},\n",
       " {'hand': '2K386', 'bid': '647', 'type': 'high_card', 'rank': 9},\n",
       " {'hand': '2KQA5', 'bid': '978', 'type': 'high_card', 'rank': 10}]"
      ]
     },
     "execution_count": 39,
     "metadata": {},
     "output_type": "execute_result"
    }
   ],
   "source": [
    "ranked_games_new_rule = get_rank(sorted_games_new_rule)\n",
    "ranked_games_new_rule[:10]"
   ]
  },
  {
   "cell_type": "code",
   "execution_count": 40,
   "metadata": {},
   "outputs": [
    {
     "data": {
      "text/plain": [
       "251515496"
      ]
     },
     "execution_count": 40,
     "metadata": {},
     "output_type": "execute_result"
    }
   ],
   "source": [
    "get_points(ranked_games_new_rule)"
   ]
  },
  {
   "cell_type": "code",
   "execution_count": 26,
   "metadata": {},
   "outputs": [
    {
     "data": {
      "text/plain": [
       "[{'hand': '398KA', 'bid': '456', 'type': 'high_card'},\n",
       " {'hand': '2J299', 'bid': '282', 'type': 'full_house'},\n",
       " {'hand': '8939K', 'bid': '547', 'type': 'pair'},\n",
       " {'hand': '9TAA9', 'bid': '79', 'type': 'two_pair'},\n",
       " {'hand': '47TJ4', 'bid': '431', 'type': 'three'},\n",
       " {'hand': 'KJKKK', 'bid': '262', 'type': 'five'},\n",
       " {'hand': '9Q75Q', 'bid': '826', 'type': 'pair'},\n",
       " {'hand': 'JK9T3', 'bid': '213', 'type': 'pair'},\n",
       " {'hand': '82J22', 'bid': '956', 'type': 'four'},\n",
       " {'hand': 'T9QTT', 'bid': '251', 'type': 'three'}]"
      ]
     },
     "execution_count": 26,
     "metadata": {},
     "output_type": "execute_result"
    }
   ],
   "source": [
    "info_new_rule[:10]"
   ]
  },
  {
   "cell_type": "code",
   "execution_count": null,
   "metadata": {},
   "outputs": [],
   "source": []
  }
 ],
 "metadata": {
  "kernelspec": {
   "display_name": "AoC",
   "language": "python",
   "name": "python3"
  },
  "language_info": {
   "codemirror_mode": {
    "name": "ipython",
    "version": 3
   },
   "file_extension": ".py",
   "mimetype": "text/x-python",
   "name": "python",
   "nbconvert_exporter": "python",
   "pygments_lexer": "ipython3",
   "version": "3.9.18"
  },
  "orig_nbformat": 4
 },
 "nbformat": 4,
 "nbformat_minor": 2
}

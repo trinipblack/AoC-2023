{
 "cells": [
  {
   "cell_type": "markdown",
   "metadata": {},
   "source": [
    "# DAY 5"
   ]
  },
  {
   "cell_type": "markdown",
   "metadata": {},
   "source": [
    "## --- Day 5: If You Give A Seed A Fertilizer ---\n",
    "\n",
    "You take the boat and find the gardener right where you were told he would be: managing a giant \"garden\" that looks more to you like a farm.\n",
    "\n",
    "\"A water source? Island Island is the water source!\" You point out that Snow Island isn't receiving any water.\n",
    "\n",
    "\"Oh, we had to stop the water because we ran out of sand to filter it with! Can't make snow with dirty water. Don't worry, I'm sure we'll get more sand soon; we only turned off the water a few days... weeks... oh no.\" His face sinks into a look of horrified realization.\n",
    "\n",
    "\"I've been so busy making sure everyone here has food that I completely forgot to check why we stopped getting more sand! There's a ferry leaving soon that is headed over in that direction - it's much faster than your boat. Could you please go check it out?\"\n",
    "\n",
    "You barely have time to agree to this request when he brings up another. \"While you wait for the ferry, maybe you can help us with our food production problem. The latest Island Island Almanac just arrived and we're having trouble making sense of it.\"\n",
    "\n",
    "The almanac (your puzzle input) lists all of the seeds that need to be planted. It also lists what type of soil to use with each kind of seed, what type of fertilizer to use with each kind of soil, what type of water to use with each kind of fertilizer, and so on. Every type of seed, soil, fertilizer and so on is identified with a number, but numbers are reused by each category - that is, soil 123 and fertilizer 123 aren't necessarily related to each other.\n",
    "\n",
    "For example:\n",
    "\n",
    "seeds: 79 14 55 13\n",
    "\n",
    "```python\n",
    "seed-to-soil map:\n",
    "50 98 2\n",
    "52 50 48\n",
    "\n",
    "soil-to-fertilizer map:\n",
    "0 15 37\n",
    "37 52 2\n",
    "39 0 15\n",
    "\n",
    "fertilizer-to-water map:\n",
    "49 53 8\n",
    "0 11 42\n",
    "42 0 7\n",
    "57 7 4\n",
    "\n",
    "water-to-light map:\n",
    "88 18 7\n",
    "18 25 70\n",
    "\n",
    "light-to-temperature map:\n",
    "45 77 23\n",
    "81 45 19\n",
    "68 64 13\n",
    "\n",
    "temperature-to-humidity map:\n",
    "0 69 1\n",
    "1 0 69\n",
    "\n",
    "humidity-to-location map:\n",
    "60 56 37\n",
    "56 93 4\n",
    "```\n",
    "The almanac starts by listing which seeds need to be planted: seeds 79, 14, 55, and 13.\n",
    "\n",
    "The rest of the almanac contains a list of maps which describe how to convert numbers from a source category into numbers in a destination category. That is, the section that starts with seed-to-soil map: describes how to convert a seed number (the source) to a soil number (the destination). This lets the gardener and his team know which soil to use with which seeds, which water to use with which fertilizer, and so on.\n",
    "\n",
    "Rather than list every source number and its corresponding destination number one by one, the maps describe entire ranges of numbers that can be converted. Each line within a map contains three numbers: the destination range start, the source range start, and the range length.\n",
    "\n",
    "Consider again the example seed-to-soil map:\n",
    "\n",
    "```python\n",
    "50 98 2\n",
    "52 50 48\n",
    "```\n",
    "The first line has a destination range start of 50, a source range start of 98, and a range length of 2. This line means that the source range starts at 98 and contains two values: 98 and 99. The destination range is the same length, but it starts at 50, so its two values are 50 and 51. With this information, you know that seed number 98 corresponds to soil number 50 and that seed number 99 corresponds to soil number 51.\n",
    "\n",
    "The second line means that the source range starts at 50 and contains 48 values: 50, 51, ..., 96, 97. This corresponds to a destination range starting at 52 and also containing 48 values: 52, 53, ..., 98, 99. So, seed number 53 corresponds to soil number 55.\n",
    "\n",
    "Any source numbers that aren't mapped correspond to the same destination number. So, seed number 10 corresponds to soil number 10.\n",
    "\n",
    "So, the entire list of seed numbers and their corresponding soil numbers looks like this:\n",
    "\n",
    "```python\n",
    "seed  soil\n",
    "0     0\n",
    "1     1\n",
    "...   ...\n",
    "48    48\n",
    "49    49\n",
    "50    52\n",
    "51    53\n",
    "...   ...\n",
    "96    98\n",
    "97    99\n",
    "98    50\n",
    "99    51\n",
    "```\n",
    "With this map, you can look up the soil number required for each initial seed number:\n",
    "\n",
    "```python\n",
    "Seed number 79 corresponds to soil number 81.\n",
    "Seed number 14 corresponds to soil number 14.\n",
    "Seed number 55 corresponds to soil number 57.\n",
    "Seed number 13 corresponds to soil number 13.\n",
    "```\n",
    "The gardener and his team want to get started as soon as possible, so they'd like to know the closest location that needs a seed. Using these maps, find the lowest location number that corresponds to any of the initial seeds. To do this, you'll need to convert each seed number through other categories until you can find its corresponding location number. In this example, the corresponding types are:\n",
    "\n",
    "```python\n",
    "Seed 79, soil 81, fertilizer 81, water 81, light 74, temperature 78, humidity 78, location 82.\n",
    "Seed 14, soil 14, fertilizer 53, water 49, light 42, temperature 42, humidity 43, location 43.\n",
    "Seed 55, soil 57, fertilizer 57, water 53, light 46, temperature 82, humidity 82, location 86.\n",
    "Seed 13, soil 13, fertilizer 52, water 41, light 34, temperature 34, humidity 35, location 35.\n",
    "```\n",
    "So, the lowest location number in this example is 35.\n",
    "\n",
    "What is the lowest location number that corresponds to any of the initial seed numbers?"
   ]
  },
  {
   "cell_type": "code",
   "execution_count": 92,
   "metadata": {},
   "outputs": [
    {
     "name": "stdout",
     "output_type": "stream",
     "text": [
      "seeds: 2637529854 223394899 3007537707 503983167 307349251 197383535 3543757609 276648400 2296792159 141010855 116452725 5160533 2246652813 49767336 762696372 160455077 3960442213 105867001 1197133308 38546766\n",
      "\n",
      "seed-to-soil map:\n",
      "1024364543 1121869540 764570177\n",
      "1788934720 0 30748436\n",
      "710359306 576061773 314005237\n",
      "1819683156 509305212 66756561\n",
      "478556776 890067010 231802530\n",
      "0 30748436 478556776\n",
      "\n",
      "soil-to-fertilizer map:\n",
      "3998185854 3762642503 103735883\n",
      "2968507762 2068943953 132922295\n",
      "1615660383 312824\n"
     ]
    },
    {
     "ename": "KeyboardInterrupt",
     "evalue": "",
     "output_type": "error",
     "traceback": [
      "\u001b[0;31m---------------------------------------------------------------------------\u001b[0m",
      "\u001b[0;31mKeyboardInterrupt\u001b[0m                         Traceback (most recent call last)",
      "Cell \u001b[0;32mIn[91], line 2\u001b[0m\n\u001b[1;32m      1\u001b[0m \u001b[39m# Ésto toma demasiado tiempo (como 40 mins para la primera regla, que no es la con más seeds)\u001b[39;00m\n\u001b[0;32m----> 2\u001b[0m map_seed_to_location(\u001b[39mlist\u001b[39;49m(\u001b[39mrange\u001b[39;49m(list_of_seed_rules[\u001b[39m0\u001b[39;49m][\u001b[39m'\u001b[39;49m\u001b[39mstart\u001b[39;49m\u001b[39m'\u001b[39;49m], list_of_seed_rules[\u001b[39m0\u001b[39;49m][\u001b[39m'\u001b[39;49m\u001b[39mstart\u001b[39;49m\u001b[39m'\u001b[39;49m] \u001b[39m+\u001b[39;49m list_of_seed_rules[\u001b[39m0\u001b[39;49m][\u001b[39m'\u001b[39;49m\u001b[39mrange_len\u001b[39;49m\u001b[39m'\u001b[39;49m])), map_dict)\n",
      "\u001b[0;31mKeyboardInterrupt\u001b[0m: "
     ]
    },
    {
     "name": "stdout",
     "output_type": "stream",
     "text": [
      "seeds: 2637529854 223394899 3007537707 503983167 307349251 197383535 3543757609 276648400 2296792159 141010855 116452725 5160533 2246652813 49767336 762696372 160455077 3960442213 105867001 1197133308 38546766\n",
      "\n",
      "seed-to-soil map:\n",
      "1024364543 1121869540 764570177\n",
      "1788934720 0 30748436\n",
      "710359306 576061773 314005237\n",
      "1819683156 509305212 66756561\n",
      "478556776 890067010 231802530\n",
      "0 30748436 478556776\n",
      "\n",
      "soil-to-fertilizer map:\n",
      "3998185854 3762642503 103735883\n",
      "2968507762 2068943953 132922295\n",
      "1615660383 312824\n"
     ]
    }
   ],
   "source": [
    "with open('../inputs/day-5.txt') as f:\n",
    "    raw_input = f.read()\n",
    "print(raw_input[:500])"
   ]
  },
  {
   "cell_type": "code",
   "execution_count": 93,
   "metadata": {},
   "outputs": [],
   "source": [
    "raw_example = '''seeds: 79 14 55 13\n",
    "\n",
    "seed-to-soil map:\n",
    "50 98 2\n",
    "52 50 48\n",
    "\n",
    "soil-to-fertilizer map:\n",
    "0 15 37\n",
    "37 52 2\n",
    "39 0 15\n",
    "\n",
    "fertilizer-to-water map:\n",
    "49 53 8\n",
    "0 11 42\n",
    "42 0 7\n",
    "57 7 4\n",
    "\n",
    "water-to-light map:\n",
    "88 18 7\n",
    "18 25 70\n",
    "\n",
    "light-to-temperature map:\n",
    "45 77 23\n",
    "81 45 19\n",
    "68 64 13\n",
    "\n",
    "temperature-to-humidity map:\n",
    "0 69 1\n",
    "1 0 69\n",
    "\n",
    "humidity-to-location map:\n",
    "60 56 37\n",
    "56 93 4'''"
   ]
  },
  {
   "cell_type": "code",
   "execution_count": 94,
   "metadata": {},
   "outputs": [],
   "source": [
    "from tqdm import tqdm"
   ]
  },
  {
   "cell_type": "code",
   "execution_count": 95,
   "metadata": {},
   "outputs": [],
   "source": [
    "def show_preview(dict_input, top):\n",
    "    return dict(list(dict_input.items())[:top])"
   ]
  },
  {
   "cell_type": "code",
   "execution_count": 96,
   "metadata": {},
   "outputs": [],
   "source": [
    "def preprocess(raw_input):\n",
    "    input_lines = raw_input.split('\\n\\n')\n",
    "    seeds = input_lines[0].split('seeds: ')[1].split(' ')\n",
    "    map_dict = {line.split(' map:')[0] : \n",
    "    {'raw_map' : line.split(':\\n')[1].split('\\n'),\n",
    "     'rules' : [{'destination_start' : int(rule.split(' ')[0]),\n",
    "                 'source_start' : int(rule.split(' ')[1]),\n",
    "                 'range_len' : int(rule.split(' ')[2]),\n",
    "                 'add_to_transform' : int(rule.split(' ')[0]) - int(rule.split(' ')[1]),\n",
    "                 'source_end' : int(rule.split(' ')[1]) + int(rule.split(' ')[2]) -1\n",
    "                 } for rule in line.split(':\\n')[1].split('\\n')],\n",
    "     } for line in tqdm(input_lines[1:])}\n",
    "    return input_lines, seeds, map_dict"
   ]
  },
  {
   "cell_type": "code",
   "execution_count": 97,
   "metadata": {},
   "outputs": [
    {
     "name": "stderr",
     "output_type": "stream",
     "text": [
      "100%|██████████| 7/7 [00:00<00:00, 52242.22it/s]\n"
     ]
    },
    {
     "data": {
      "text/plain": [
       "{'seed-to-soil': {'raw_map': ['50 98 2', '52 50 48'],\n",
       "  'rules': [{'destination_start': 50,\n",
       "    'source_start': 98,\n",
       "    'range_len': 2,\n",
       "    'add_to_transform': -48,\n",
       "    'source_end': 99},\n",
       "   {'destination_start': 52,\n",
       "    'source_start': 50,\n",
       "    'range_len': 48,\n",
       "    'add_to_transform': 2,\n",
       "    'source_end': 97}]}}"
      ]
     },
     "execution_count": 97,
     "metadata": {},
     "output_type": "execute_result"
    }
   ],
   "source": [
    "_, ex_seeds, ex_map_dict = preprocess(raw_example)\n",
    "show_preview(ex_map_dict,1)"
   ]
  },
  {
   "cell_type": "code",
   "execution_count": 98,
   "metadata": {},
   "outputs": [
    {
     "name": "stderr",
     "output_type": "stream",
     "text": [
      "100%|██████████| 7/7 [00:00<00:00, 7598.38it/s]\n"
     ]
    },
    {
     "data": {
      "text/plain": [
       "['2637529854',\n",
       " '223394899',\n",
       " '3007537707',\n",
       " '503983167',\n",
       " '307349251',\n",
       " '197383535',\n",
       " '3543757609',\n",
       " '276648400',\n",
       " '2296792159',\n",
       " '141010855',\n",
       " '116452725',\n",
       " '5160533',\n",
       " '2246652813',\n",
       " '49767336',\n",
       " '762696372',\n",
       " '160455077',\n",
       " '3960442213',\n",
       " '105867001',\n",
       " '1197133308',\n",
       " '38546766']"
      ]
     },
     "execution_count": 98,
     "metadata": {},
     "output_type": "execute_result"
    }
   ],
   "source": [
    "input_lines, seeds, map_dict = preprocess(raw_input)\n",
    "seeds"
   ]
  },
  {
   "cell_type": "code",
   "execution_count": 99,
   "metadata": {},
   "outputs": [
    {
     "name": "stdout",
     "output_type": "stream",
     "text": [
      "dict_keys(['seed-to-soil', 'soil-to-fertilizer', 'fertilizer-to-water', 'water-to-light', 'light-to-temperature', 'temperature-to-humidity', 'humidity-to-location'])\n"
     ]
    },
    {
     "data": {
      "text/plain": [
       "{'seed-to-soil': {'raw_map': ['1024364543 1121869540 764570177',\n",
       "   '1788934720 0 30748436',\n",
       "   '710359306 576061773 314005237',\n",
       "   '1819683156 509305212 66756561',\n",
       "   '478556776 890067010 231802530',\n",
       "   '0 30748436 478556776'],\n",
       "  'rules': [{'destination_start': 1024364543,\n",
       "    'source_start': 1121869540,\n",
       "    'range_len': 764570177,\n",
       "    'add_to_transform': -97504997,\n",
       "    'source_end': 1886439716},\n",
       "   {'destination_start': 1788934720,\n",
       "    'source_start': 0,\n",
       "    'range_len': 30748436,\n",
       "    'add_to_transform': 1788934720,\n",
       "    'source_end': 30748435},\n",
       "   {'destination_start': 710359306,\n",
       "    'source_start': 576061773,\n",
       "    'range_len': 314005237,\n",
       "    'add_to_transform': 134297533,\n",
       "    'source_end': 890067009},\n",
       "   {'destination_start': 1819683156,\n",
       "    'source_start': 509305212,\n",
       "    'range_len': 66756561,\n",
       "    'add_to_transform': 1310377944,\n",
       "    'source_end': 576061772},\n",
       "   {'destination_start': 478556776,\n",
       "    'source_start': 890067010,\n",
       "    'range_len': 231802530,\n",
       "    'add_to_transform': -411510234,\n",
       "    'source_end': 1121869539},\n",
       "   {'destination_start': 0,\n",
       "    'source_start': 30748436,\n",
       "    'range_len': 478556776,\n",
       "    'add_to_transform': -30748436,\n",
       "    'source_end': 509305211}]}}"
      ]
     },
     "execution_count": 99,
     "metadata": {},
     "output_type": "execute_result"
    }
   ],
   "source": [
    "print(map_dict.keys())\n",
    "show_preview(map_dict, 1)"
   ]
  },
  {
   "cell_type": "code",
   "execution_count": 100,
   "metadata": {},
   "outputs": [],
   "source": [
    "def map_seed_to_location(seeds, map_dict):\n",
    "    locations = []\n",
    "    for seed in tqdm(seeds, total = len(seeds)):\n",
    "        number = int(seed)\n",
    "        for value in map_dict.values():\n",
    "            for rule in value['rules']:\n",
    "                if (number >= rule['source_start']) and (number <= rule['source_end']):\n",
    "                    number = number + rule['add_to_transform']\n",
    "                    break\n",
    "        locations.append(number)\n",
    "    return locations"
   ]
  },
  {
   "cell_type": "code",
   "execution_count": 101,
   "metadata": {},
   "outputs": [
    {
     "name": "stderr",
     "output_type": "stream",
     "text": [
      "100%|██████████| 4/4 [00:00<00:00, 16727.03it/s]"
     ]
    },
    {
     "name": "stdout",
     "output_type": "stream",
     "text": [
      "[82, 43, 86, 35]\n"
     ]
    },
    {
     "name": "stderr",
     "output_type": "stream",
     "text": [
      "\n"
     ]
    },
    {
     "data": {
      "text/plain": [
       "35"
      ]
     },
     "execution_count": 101,
     "metadata": {},
     "output_type": "execute_result"
    }
   ],
   "source": [
    "ex_locations = map_seed_to_location(ex_seeds, ex_map_dict)\n",
    "print(ex_locations)\n",
    "min(ex_locations)"
   ]
  },
  {
   "cell_type": "code",
   "execution_count": 102,
   "metadata": {},
   "outputs": [
    {
     "name": "stderr",
     "output_type": "stream",
     "text": [
      "100%|██████████| 20/20 [00:00<00:00, 51432.30it/s]"
     ]
    },
    {
     "name": "stdout",
     "output_type": "stream",
     "text": [
      "[952477129, 2034693736, 529920957, 1527251764, 1977593071, 392155745, 463381925, 1386699782, 2881203799, 323142486, 1647100058, 986839705, 3140421136, 411345729, 3756949712, 2053358364, 1703794682, 1636514334, 3532982063, 400125159]\n"
     ]
    },
    {
     "name": "stderr",
     "output_type": "stream",
     "text": [
      "\n"
     ]
    },
    {
     "data": {
      "text/plain": [
       "323142486"
      ]
     },
     "execution_count": 102,
     "metadata": {},
     "output_type": "execute_result"
    }
   ],
   "source": [
    "locations = map_seed_to_location(seeds, map_dict)\n",
    "print(locations)\n",
    "answer = min(locations)\n",
    "answer"
   ]
  },
  {
   "cell_type": "markdown",
   "metadata": {},
   "source": [
    "## --- Part Two ---\n",
    "Everyone will starve if you only plant such a small number of seeds. Re-reading the almanac, it looks like the seeds: line actually describes ranges of seed numbers.\n",
    "\n",
    "The values on the initial seeds: line come in pairs. Within each pair, the first value is the start of the range and the second value is the length of the range. So, in the first line of the example above:\n",
    "\n",
    "seeds: 79 14 55 13\n",
    "This line describes two ranges of seed numbers to be planted in the garden. The first range starts with seed number 79 and contains 14 values: 79, 80, ..., 91, 92. The second range starts with seed number 55 and contains 13 values: 55, 56, ..., 66, 67.\n",
    "\n",
    "Now, rather than considering four seed numbers, you need to consider a total of 27 seed numbers.\n",
    "\n",
    "In the above example, the lowest location number can be obtained from seed number 82, which corresponds to soil 84, fertilizer 84, water 84, light 77, temperature 45, humidity 46, and location 46. So, the lowest location number is 46.\n",
    "\n",
    "Consider all of the initial seed numbers listed in the ranges on the first line of the almanac. What is the lowest location number that corresponds to any of the initial seed numbers?"
   ]
  },
  {
   "cell_type": "code",
   "execution_count": 103,
   "metadata": {},
   "outputs": [
    {
     "data": {
      "text/plain": [
       "['79', '14', '55', '13']"
      ]
     },
     "execution_count": 103,
     "metadata": {},
     "output_type": "execute_result"
    }
   ],
   "source": [
    "ex_seeds"
   ]
  },
  {
   "cell_type": "code",
   "execution_count": 104,
   "metadata": {},
   "outputs": [],
   "source": [
    "def get_list_of_seed_rules(old_seeds):\n",
    "    list_of_seed_rules = []\n",
    "    remaining_seeds = old_seeds.copy()\n",
    "    while len(remaining_seeds) > 1:\n",
    "        list_of_seed_rules.append({'start' : int(remaining_seeds[0]), \n",
    "                                   'end' : int(remaining_seeds[0]) + int(remaining_seeds[1]) - 1})\n",
    "        del remaining_seeds[0:2]\n",
    "    return list_of_seed_rules\n",
    "\n",
    "def get_list_of_seeds(list_of_seed_rules):\n",
    "    list_of_seeds = []\n",
    "    for rule in tqdm(list_of_seed_rules):\n",
    "        print(rule)\n",
    "        rule_seeds = list(range(rule['start'], rule['end']))\n",
    "        list_of_seeds.extend(rule_seeds)\n",
    "        print(list_of_seeds)\n",
    "    return list_of_seeds\n"
   ]
  },
  {
   "cell_type": "code",
   "execution_count": 105,
   "metadata": {},
   "outputs": [
    {
     "name": "stderr",
     "output_type": "stream",
     "text": [
      "100%|██████████| 2/2 [00:00<00:00, 9467.95it/s]\n"
     ]
    },
    {
     "name": "stdout",
     "output_type": "stream",
     "text": [
      "{'start': 79, 'end': 92}\n",
      "[79, 80, 81, 82, 83, 84, 85, 86, 87, 88, 89, 90, 91]\n",
      "{'start': 55, 'end': 67}\n",
      "[79, 80, 81, 82, 83, 84, 85, 86, 87, 88, 89, 90, 91, 55, 56, 57, 58, 59, 60, 61, 62, 63, 64, 65, 66]\n"
     ]
    },
    {
     "name": "stderr",
     "output_type": "stream",
     "text": [
      "100%|██████████| 25/25 [00:00<00:00, 203606.99it/s]\n"
     ]
    },
    {
     "data": {
      "text/plain": [
       "46"
      ]
     },
     "execution_count": 105,
     "metadata": {},
     "output_type": "execute_result"
    }
   ],
   "source": [
    "ex_new_seeds = get_list_of_seeds(get_list_of_seed_rules(ex_seeds))\n",
    "min(map_seed_to_location(ex_new_seeds, ex_map_dict))"
   ]
  },
  {
   "cell_type": "code",
   "execution_count": 106,
   "metadata": {},
   "outputs": [
    {
     "data": {
      "text/plain": [
       "[{'start': 2637529854, 'end': 2860924752},\n",
       " {'start': 3007537707, 'end': 3511520873},\n",
       " {'start': 307349251, 'end': 504732785},\n",
       " {'start': 3543757609, 'end': 3820406008},\n",
       " {'start': 2296792159, 'end': 2437803013},\n",
       " {'start': 116452725, 'end': 121613257},\n",
       " {'start': 2246652813, 'end': 2296420148},\n",
       " {'start': 762696372, 'end': 923151448},\n",
       " {'start': 3960442213, 'end': 4066309213},\n",
       " {'start': 1197133308, 'end': 1235680073}]"
      ]
     },
     "execution_count": 106,
     "metadata": {},
     "output_type": "execute_result"
    }
   ],
   "source": [
    "list_of_seed_intervals = get_list_of_seed_rules(seeds)\n",
    "list_of_seed_intervals"
   ]
  },
  {
   "cell_type": "code",
   "execution_count": 107,
   "metadata": {},
   "outputs": [
    {
     "name": "stderr",
     "output_type": "stream",
     "text": [
      "  1%|          | 2721973/223394898 [00:28<38:51, 94646.81it/s] \n"
     ]
    },
    {
     "ename": "KeyboardInterrupt",
     "evalue": "",
     "output_type": "error",
     "traceback": [
      "\u001b[0;31m---------------------------------------------------------------------------\u001b[0m",
      "\u001b[0;31mKeyboardInterrupt\u001b[0m                         Traceback (most recent call last)",
      "Cell \u001b[0;32mIn[107], line 2\u001b[0m\n\u001b[1;32m      1\u001b[0m \u001b[39m# Ésto toma demasiado tiempo (como 40 mins para la primera regla, que no es la con más seeds)\u001b[39;00m\n\u001b[0;32m----> 2\u001b[0m map_seed_to_location(\u001b[39mlist\u001b[39;49m(\u001b[39mrange\u001b[39;49m(list_of_seed_intervals[\u001b[39m0\u001b[39;49m][\u001b[39m'\u001b[39;49m\u001b[39mstart\u001b[39;49m\u001b[39m'\u001b[39;49m], list_of_seed_intervals[\u001b[39m0\u001b[39;49m][\u001b[39m'\u001b[39;49m\u001b[39mend\u001b[39;49m\u001b[39m'\u001b[39;49m])), map_dict)\n",
      "Cell \u001b[0;32mIn[100], line 7\u001b[0m, in \u001b[0;36mmap_seed_to_location\u001b[0;34m(seeds, map_dict)\u001b[0m\n\u001b[1;32m      5\u001b[0m \u001b[39mfor\u001b[39;00m value \u001b[39min\u001b[39;00m map_dict\u001b[39m.\u001b[39mvalues():\n\u001b[1;32m      6\u001b[0m     \u001b[39mfor\u001b[39;00m rule \u001b[39min\u001b[39;00m value[\u001b[39m'\u001b[39m\u001b[39mrules\u001b[39m\u001b[39m'\u001b[39m]:\n\u001b[0;32m----> 7\u001b[0m         \u001b[39mif\u001b[39;00m (number \u001b[39m>\u001b[39m\u001b[39m=\u001b[39m rule[\u001b[39m'\u001b[39;49m\u001b[39msource_start\u001b[39;49m\u001b[39m'\u001b[39;49m]) \u001b[39mand\u001b[39;00m (number \u001b[39m<\u001b[39m\u001b[39m=\u001b[39m rule[\u001b[39m'\u001b[39m\u001b[39msource_end\u001b[39m\u001b[39m'\u001b[39m]):\n\u001b[1;32m      8\u001b[0m             number \u001b[39m=\u001b[39m number \u001b[39m+\u001b[39m rule[\u001b[39m'\u001b[39m\u001b[39madd_to_transform\u001b[39m\u001b[39m'\u001b[39m]\n\u001b[1;32m      9\u001b[0m             \u001b[39mbreak\u001b[39;00m\n",
      "\u001b[0;31mKeyboardInterrupt\u001b[0m: "
     ]
    }
   ],
   "source": [
    "# Ésto toma demasiado tiempo (como 40 mins para la primera regla, que no es la con más seeds)\n",
    "# map_seed_to_location(list(range(list_of_seed_intervals[0]['start'], list_of_seed_intervals[0]['end'])), map_dict)"
   ]
  },
  {
   "cell_type": "code",
   "execution_count": 156,
   "metadata": {},
   "outputs": [
    {
     "name": "stderr",
     "output_type": "stream",
     "text": [
      "100%|██████████| 2/2 [00:00<00:00, 12807.04it/s]\n"
     ]
    },
    {
     "data": {
      "text/plain": [
       "46"
      ]
     },
     "execution_count": 156,
     "metadata": {},
     "output_type": "execute_result"
    }
   ],
   "source": [
    "def cover_gaps(total_range, existing_intervals):\n",
    "    intervals = []\n",
    "    sorted_existing_intervals = sorted(existing_intervals, key = lambda x: x['start'])\n",
    "    if sorted_existing_intervals[0]['start'] != total_range['start']:\n",
    "        intervals.append({'start' : total_range['start'], 'end' : sorted_existing_intervals[0]['start'] - 1 , 'rule' : 0})\n",
    "\n",
    "    for i in range(len(sorted_existing_intervals)):\n",
    "        current_interval = sorted_existing_intervals[i]\n",
    "        if i != 0:\n",
    "            if sorted_existing_intervals[i - 1]['end'] + 1 != current_interval['start']:\n",
    "                intervals.append({'start' : sorted_existing_intervals[i - 1]['end'] + 1, 'end' : current_interval['start'] -1 , 'rule' : 0})\n",
    "        intervals.append(current_interval)\n",
    "\n",
    "    if sorted_existing_intervals[-1]['end'] != total_range['end']:\n",
    "        intervals.append({'start' : sorted_existing_intervals[-1]['end'] + 1, 'end' : total_range['end'] , 'rule' : 0})\n",
    "\n",
    "    return intervals\n",
    "\n",
    "def transform(intervals):\n",
    "    # print(intervals)\n",
    "    return [{'start' : i['start'] + i['rule'], 'end' : i['end'] + i['rule']} for i in intervals]\n",
    "\n",
    "def add_active_intervals(new_intervals_list, seed_interval, rule):\n",
    "    if ((rule['source_start'] >= seed_interval['start']) and (rule['source_start'] <= seed_interval['end'])) and \\\n",
    "        ((rule['source_end'] >= seed_interval['start']) and (rule['source_end'] <= seed_interval['end'])): # inicio y fin de regla dentro del intervalo\n",
    "        new_intervals_list.extend([{'start' : rule['source_start'], 'end' : rule['source_end'], 'rule' : rule['add_to_transform']}])\n",
    "    elif (rule['source_start'] >= seed_interval['start']) and (rule['source_start'] <= seed_interval['end']) :  # inicio de regla dentro del intervalo\n",
    "        new_intervals_list.extend([{'start' : rule['source_start'], 'end' : seed_interval['end'], 'rule' : rule['add_to_transform']}])\n",
    "    elif (rule['source_end'] >= seed_interval['start']) and (rule['source_end'] <= seed_interval['end']): # fin de regla dentro del intervalo\n",
    "        new_intervals_list.extend([{'start' : seed_interval['start'], 'end' : rule['source_end'], 'rule' : rule['add_to_transform']}])\n",
    "    elif (rule['source_start'] <= seed_interval['start']) and (rule['source_end'] >= seed_interval['end']): # fin de regla dentro del intervalo\n",
    "        new_intervals_list.extend([{'start' : seed_interval['start'], 'end' : seed_interval['end'], 'rule' : rule['add_to_transform']}])\n",
    "\n",
    "def get_new_intervals(seed_interval_input, rules):\n",
    "    seed_interval = seed_interval_input.copy()\n",
    "    # print(seed_interval)\n",
    "    new_intervals_list = []\n",
    "    for rule in rules:\n",
    "        # print(rule)\n",
    "        add_active_intervals(new_intervals_list, seed_interval, rule)\n",
    "\n",
    "    if len(new_intervals_list) == 0:\n",
    "        seed_interval['rule'] = 0\n",
    "        new_intervals_list.append(seed_interval)\n",
    "    else:\n",
    "        new_intervals_list = cover_gaps(seed_interval, new_intervals_list)\n",
    "        \n",
    "    return new_intervals_list\n",
    "\n",
    "\n",
    "def get_locations(_list_of_seed_intervals, _map_dict):\n",
    "    seed_interval_locations = []\n",
    "    for seed_interval in tqdm(_list_of_seed_intervals, total = len (_list_of_seed_intervals)):\n",
    "        total_list_of_intervals = [seed_interval] # Se inicializa la lista de intervalos\n",
    "        for name, transformation in _map_dict.items():\n",
    "            # print(name)\n",
    "            transformed_intervals = [] # Se inicializa la lista de intervalos transformados\n",
    "            for big_interval in total_list_of_intervals:\n",
    "                new_intervals = get_new_intervals(big_interval, transformation['rules']) # Se obtienen los nuevos intervalos con su regla\n",
    "                transformed_intervals.extend(transform(new_intervals)) # Se suma o resta lo correspondiente (regla) a cada intervalo\n",
    "            total_list_of_intervals = transformed_intervals.copy() # Se genera el input para la nueva transformación\n",
    "        seed_interval_locations.extend(total_list_of_intervals)\n",
    "        \n",
    "    return seed_interval_locations\n",
    "\n",
    "def get_min_location(seed_interval_locations):\n",
    "    return min([i['start'] for i in seed_interval_locations])\n",
    "            \n",
    "                             \n",
    "# print(get_new_intervals({'start': 40, 'end': 100}, ex_map_dict['seed-to-soil']['rules']))\n",
    "ex_locations = get_locations(get_list_of_seed_rules(ex_seeds), ex_map_dict)\n",
    "get_min_location(ex_locations)"
   ]
  },
  {
   "cell_type": "code",
   "execution_count": 157,
   "metadata": {},
   "outputs": [
    {
     "name": "stderr",
     "output_type": "stream",
     "text": [
      "100%|██████████| 10/10 [00:00<00:00, 1685.47it/s]\n"
     ]
    }
   ],
   "source": [
    "locations = get_locations(list_of_seed_intervals, map_dict)"
   ]
  },
  {
   "cell_type": "code",
   "execution_count": 159,
   "metadata": {},
   "outputs": [
    {
     "data": {
      "text/plain": [
       "[{'start': 952477129, 'end': 965919505},\n",
       " {'start': 2571056893, 'end': 2590498812},\n",
       " {'start': 2659904393, 'end': 2721389113},\n",
       " {'start': 2797793248, 'end': 2826523857},\n",
       " {'start': 595208874, 'end': 610394458},\n",
       " {'start': 2217335060, 'end': 2244787398},\n",
       " {'start': 2244787399, 'end': 2302444745},\n",
       " {'start': 529920957, 'end': 536656648},\n",
       " {'start': 2434280859, 'end': 2434954342},\n",
       " {'start': 2412783486, 'end': 2434280858}]"
      ]
     },
     "execution_count": 159,
     "metadata": {},
     "output_type": "execute_result"
    }
   ],
   "source": [
    "locations[:10]"
   ]
  },
  {
   "cell_type": "code",
   "execution_count": 161,
   "metadata": {},
   "outputs": [
    {
     "data": {
      "text/plain": [
       "79874951"
      ]
     },
     "execution_count": 161,
     "metadata": {},
     "output_type": "execute_result"
    }
   ],
   "source": [
    "get_min_location(locations)"
   ]
  },
  {
   "cell_type": "code",
   "execution_count": null,
   "metadata": {},
   "outputs": [],
   "source": []
  }
 ],
 "metadata": {
  "kernelspec": {
   "display_name": "AoC",
   "language": "python",
   "name": "python3"
  },
  "language_info": {
   "codemirror_mode": {
    "name": "ipython",
    "version": 3
   },
   "file_extension": ".py",
   "mimetype": "text/x-python",
   "name": "python",
   "nbconvert_exporter": "python",
   "pygments_lexer": "ipython3",
   "version": "3.9.18"
  },
  "orig_nbformat": 4
 },
 "nbformat": 4,
 "nbformat_minor": 2
}

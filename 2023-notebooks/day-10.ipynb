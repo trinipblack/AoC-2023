{
 "cells": [
  {
   "cell_type": "markdown",
   "metadata": {},
   "source": []
  },
  {
   "cell_type": "markdown",
   "metadata": {},
   "source": [
    "## --- Day 10: Pipe Maze ---\n",
    "You use the hang glider to ride the hot air from Desert Island all the way up to the floating metal island. This island is surprisingly cold and there definitely aren't any thermals to glide on, so you leave your hang glider behind.\n",
    "\n",
    "You wander around for a while, but you don't find any people or animals. However, you do occasionally find signposts labeled \"Hot Springs\" pointing in a seemingly consistent direction; maybe you can find someone at the hot springs and ask them where the desert-machine parts are made.\n",
    "\n",
    "The landscape here is alien; even the flowers and trees are made of metal. As you stop to admire some metal grass, you notice something metallic scurry away in your peripheral vision and jump into a big pipe! It didn't look like any animal you've ever seen; if you want a better look, you'll need to get ahead of it.\n",
    "\n",
    "Scanning the area, you discover that the entire field you're standing on is densely packed with pipes; it was hard to tell at first because they're the same metallic silver color as the \"ground\". You make a quick sketch of all of the surface pipes you can see (your puzzle input).\n",
    "\n",
    "The pipes are arranged in a two-dimensional grid of tiles:\n",
    "\n",
    "| is a vertical pipe connecting north and south.\n",
    "- is a horizontal pipe connecting east and west.\n",
    "L is a 90-degree bend connecting north and east.\n",
    "J is a 90-degree bend connecting north and west.\n",
    "7 is a 90-degree bend connecting south and west.\n",
    "F is a 90-degree bend connecting south and east.\n",
    ". is ground; there is no pipe in this tile.\n",
    "S is the starting position of the animal; there is a pipe on this tile, but your sketch doesn't show what shape the pipe has.\n",
    "Based on the acoustics of the animal's scurrying, you're confident the pipe that contains the animal is one large, continuous loop.\n",
    "\n",
    "For example, here is a square loop of pipe:\n",
    "\n",
    ".....\n",
    ".F-7.\n",
    ".|.|.\n",
    ".L-J.\n",
    ".....\n",
    "If the animal had entered this loop in the northwest corner, the sketch would instead look like this:\n",
    "\n",
    ".....\n",
    ".S-7.\n",
    ".|.|.\n",
    ".L-J.\n",
    ".....\n",
    "In the above diagram, the S tile is still a 90-degree F bend: you can tell because of how the adjacent pipes connect to it.\n",
    "\n",
    "Unfortunately, there are also many pipes that aren't connected to the loop! This sketch shows the same loop as above:\n",
    "\n",
    "-L|F7\n",
    "7S-7|\n",
    "L|7||\n",
    "-L-J|\n",
    "L|-JF\n",
    "In the above diagram, you can still figure out which pipes form the main loop: they're the ones connected to S, pipes those pipes connect to, pipes those pipes connect to, and so on. Every pipe in the main loop connects to its two neighbors (including S, which will have exactly two pipes connecting to it, and which is assumed to connect back to those two pipes).\n",
    "\n",
    "Here is a sketch that contains a slightly more complex main loop:\n",
    "\n",
    "..F7.\n",
    ".FJ|.\n",
    "SJ.L7\n",
    "|F--J\n",
    "LJ...\n",
    "Here's the same example sketch with the extra, non-main-loop pipe tiles also shown:\n",
    "\n",
    "7-F7-\n",
    ".FJ|7\n",
    "SJLL7\n",
    "|F--J\n",
    "LJ.LJ\n",
    "If you want to get out ahead of the animal, you should find the tile in the loop that is farthest from the starting position. Because the animal is in the pipe, it doesn't make sense to measure this by direct distance. Instead, you need to find the tile that would take the longest number of steps along the loop to reach from the starting point - regardless of which way around the loop the animal went.\n",
    "\n",
    "In the first example with the square loop:\n",
    "\n",
    ".....\n",
    ".S-7.\n",
    ".|.|.\n",
    ".L-J.\n",
    ".....\n",
    "You can count the distance each tile in the loop is from the starting point like this:\n",
    "\n",
    ".....\n",
    ".012.\n",
    ".1.3.\n",
    ".234.\n",
    ".....\n",
    "In this example, the farthest point from the start is 4 steps away.\n",
    "\n",
    "Here's the more complex loop again:\n",
    "\n",
    "..F7.\n",
    ".FJ|.\n",
    "SJ.L7\n",
    "|F--J\n",
    "LJ...\n",
    "Here are the distances for each tile on that loop:\n",
    "\n",
    "..45.\n",
    ".236.\n",
    "01.78\n",
    "14567\n",
    "23...\n",
    "Find the single giant loop starting at S. How many steps along the loop does it take to get from the starting position to the point farthest from the starting position?"
   ]
  },
  {
   "cell_type": "code",
   "execution_count": 1,
   "metadata": {},
   "outputs": [],
   "source": [
    "with open('../inputs/day-10.txt') as f:\n",
    "    raw_input = f.read()"
   ]
  },
  {
   "cell_type": "code",
   "execution_count": 27,
   "metadata": {},
   "outputs": [],
   "source": [
    "raw_example1 = '''.....\n",
    ".S-7.\n",
    ".|.|.\n",
    ".L-J.\n",
    ".....'''\n",
    "raw_example2 = '''7-F7-\n",
    ".FJ|7\n",
    "SJLL7\n",
    "|F--J\n",
    "LJ.LJ'''"
   ]
  },
  {
   "cell_type": "code",
   "execution_count": 28,
   "metadata": {},
   "outputs": [
    {
     "data": {
      "text/plain": [
       "[['.', '.', '.', '.', '.'],\n",
       " ['.', 'S', '-', '7', '.'],\n",
       " ['.', '|', '.', '|', '.'],\n",
       " ['.', 'L', '-', 'J', '.'],\n",
       " ['.', '.', '.', '.', '.']]"
      ]
     },
     "execution_count": 28,
     "metadata": {},
     "output_type": "execute_result"
    }
   ],
   "source": [
    "def pre_process(raw_input):\n",
    "    return [[c for c in line] for line in raw_input.split('\\n')]\n",
    "example1 = pre_process(raw_example1)\n",
    "example2 = pre_process(raw_example2)\n",
    "example1"
   ]
  },
  {
   "cell_type": "code",
   "execution_count": 49,
   "metadata": {},
   "outputs": [
    {
     "data": {
      "text/plain": [
       "(1, 1)"
      ]
     },
     "execution_count": 49,
     "metadata": {},
     "output_type": "execute_result"
    }
   ],
   "source": [
    "def find_starting_point(grid):\n",
    "    for l, line in enumerate(grid):\n",
    "        for c, col in enumerate(line):\n",
    "            if col == 'S':\n",
    "                return l, c\n",
    "            \n",
    "find_starting_point(pre_process(raw_example1))"
   ]
  },
  {
   "cell_type": "code",
   "execution_count": 93,
   "metadata": {},
   "outputs": [],
   "source": [
    "def find_starting_neighbors(grid, starting_point):\n",
    "    l, c = starting_point\n",
    "    neighbors = []\n",
    "    if grid[l - 1][c] in '|7F': # Si arriba (-1, 0) es |, 7 o F\n",
    "        neighbors.append((l - 1, c))\n",
    "    if grid[l + 1][c] in '|JL': # Si abajo (1, 0) es |, J o L\n",
    "        neighbors.append((l + 1, c))\n",
    "    if grid[l][c + 1] in '-7J': # Si derecha (0, 1) es -, 7 o J \n",
    "        neighbors.append((l, c + 1))\n",
    "    if grid[l][c - 1] in '-FL': # Si izquierda (0, -1) es -, F o L\n",
    "        neighbors.append((l, c - 1))\n",
    "\n",
    "    return neighbors\n",
    "\n",
    "def find_next_pipe(grid, current_pipe_loc, previous_pipe_loc):\n",
    "    l, c = current_pipe_loc\n",
    "    current_pipe = grid[l][c]\n",
    "    next_pipe = []\n",
    "    if current_pipe in '|7F': # Conecta hacia abajo\n",
    "        next_pipe.append((l+1, c))\n",
    "    if current_pipe in '|JL': # Conecta hacia arriba\n",
    "        next_pipe.append((l-1, c))\n",
    "    if current_pipe in '-7J': # Conecta hacia la izquierda\n",
    "        next_pipe.append((l, c-1))\n",
    "    if current_pipe in '-FL': # Conecta hacia la derecha\n",
    "        next_pipe.append((l, c+1))\n",
    "    \n",
    "    next_pipe.remove(previous_pipe_loc)\n",
    "    return next_pipe[0]\n",
    "\n"
   ]
  },
  {
   "cell_type": "code",
   "execution_count": 99,
   "metadata": {},
   "outputs": [],
   "source": [
    "def follow_pipes(grid):\n",
    "    starting_point = find_starting_point(grid)\n",
    "    starting_neighbors = find_starting_neighbors(grid, starting_point)\n",
    "    \n",
    "    new_locs = [n for n in starting_neighbors]\n",
    "    previous_locs = [starting_point, starting_point]\n",
    "    counter = 1\n",
    "    while new_locs.count(new_locs[0]) < 2:\n",
    "        new_neighbours = [find_next_pipe(grid, loc, prev_loc) for loc, prev_loc in zip(new_locs, previous_locs)]\n",
    "        previous_locs = [l for l in new_locs]  # get new previous locs\n",
    "        new_locs = [l for l in new_neighbours] # get new locs\n",
    "        counter += 1 \n",
    "        \n",
    "    return counter"
   ]
  },
  {
   "cell_type": "code",
   "execution_count": 101,
   "metadata": {},
   "outputs": [
    {
     "data": {
      "text/plain": [
       "4"
      ]
     },
     "execution_count": 101,
     "metadata": {},
     "output_type": "execute_result"
    }
   ],
   "source": [
    "follow_pipes(example1)"
   ]
  },
  {
   "cell_type": "code",
   "execution_count": 102,
   "metadata": {},
   "outputs": [
    {
     "data": {
      "text/plain": [
       "7066"
      ]
     },
     "execution_count": 102,
     "metadata": {},
     "output_type": "execute_result"
    }
   ],
   "source": [
    "problem_input = pre_process(raw_input)\n",
    "follow_pipes(problem_input)"
   ]
  },
  {
   "cell_type": "markdown",
   "metadata": {},
   "source": [
    "--- Part Two ---\n",
    "You quickly reach the farthest point of the loop, but the animal never emerges. Maybe its nest is within the area enclosed by the loop?\n",
    "\n",
    "To determine whether it's even worth taking the time to search for such a nest, you should calculate how many tiles are contained within the loop. For example:\n",
    "\n",
    "...........\n",
    ".S-------7.\n",
    ".|F-----7|.\n",
    ".||.....||.\n",
    ".||.....||.\n",
    ".|L-7.F-J|.\n",
    ".|..|.|..|.\n",
    ".L--J.L--J.\n",
    "...........\n",
    "The above loop encloses merely four tiles - the two pairs of . in the southwest and southeast (marked I below). The middle . tiles (marked O below) are not in the loop. Here is the same loop again with those regions marked:\n",
    "\n",
    "...........\n",
    ".S-------7.\n",
    ".|F-----7|.\n",
    ".||OOOOO||.\n",
    ".||OOOOO||.\n",
    ".|L-7OF-J|.\n",
    ".|II|O|II|.\n",
    ".L--JOL--J.\n",
    ".....O.....\n",
    "In fact, there doesn't even need to be a full tile path to the outside for tiles to count as outside the loop - squeezing between pipes is also allowed! Here, I is still within the loop and O is still outside the loop:\n",
    "\n",
    "..........\n",
    ".S------7.\n",
    ".|F----7|.\n",
    ".||OOOO||.\n",
    ".||OOOO||.\n",
    ".|L-7F-J|.\n",
    ".|II||II|.\n",
    ".L--JL--J.\n",
    "..........\n",
    "In both of the above examples, 4 tiles are enclosed by the loop.\n",
    "\n",
    "Here's a larger example:\n",
    "\n",
    ".F----7F7F7F7F-7....\n",
    ".|F--7||||||||FJ....\n",
    ".||.FJ||||||||L7....\n",
    "FJL7L7LJLJ||LJ.L-7..\n",
    "L--J.L7...LJS7F-7L7.\n",
    "....F-J..F7FJ|L7L7L7\n",
    "....L7.F7||L7|.L7L7|\n",
    ".....|FJLJ|FJ|F7|.LJ\n",
    "....FJL-7.||.||||...\n",
    "....L---J.LJ.LJLJ...\n",
    "The above sketch has many random bits of ground, some of which are in the loop (I) and some of which are outside it (O):\n",
    "\n",
    "OF----7F7F7F7F-7OOOO\n",
    "O|F--7||||||||FJOOOO\n",
    "O||OFJ||||||||L7OOOO\n",
    "FJL7L7LJLJ||LJIL-7OO\n",
    "L--JOL7IIILJS7F-7L7O\n",
    "OOOOF-JIIF7FJ|L7L7L7\n",
    "OOOOL7IF7||L7|IL7L7|\n",
    "OOOOO|FJLJ|FJ|F7|OLJ\n",
    "OOOOFJL-7O||O||||OOO\n",
    "OOOOL---JOLJOLJLJOOO\n",
    "In this larger example, 8 tiles are enclosed by the loop.\n",
    "\n",
    "Any tile that isn't part of the main loop can count as being enclosed by the loop. Here's another example with many bits of junk pipe lying around that aren't connected to the main loop at all:\n",
    "\n",
    "FF7FSF7F7F7F7F7F---7\n",
    "L|LJ||||||||||||F--J\n",
    "FL-7LJLJ||||||LJL-77\n",
    "F--JF--7||LJLJ7F7FJ-\n",
    "L---JF-JLJ.||-FJLJJ7\n",
    "|F|F-JF---7F7-L7L|7|\n",
    "|FFJF7L7F-JF7|JL---7\n",
    "7-L-JL7||F7|L7F-7F7|\n",
    "L.L7LFJ|||||FJL7||LJ\n",
    "L7JLJL-JLJLJL--JLJ.L\n",
    "Here are just the tiles that are enclosed by the loop marked with I:\n",
    "\n",
    "FF7FSF7F7F7F7F7F---7\n",
    "L|LJ||||||||||||F--J\n",
    "FL-7LJLJ||||||LJL-77\n",
    "F--JF--7||LJLJIF7FJ-\n",
    "L---JF-JLJIIIIFJLJJ7\n",
    "|F|F-JF---7IIIL7L|7|\n",
    "|FFJF7L7F-JF7IIL---7\n",
    "7-L-JL7||F7|L7F-7F7|\n",
    "L.L7LFJ|||||FJL7||LJ\n",
    "L7JLJL-JLJLJL--JLJ.L\n",
    "In this last example, 10 tiles are enclosed by the loop.\n",
    "\n",
    "Figure out whether you have time to search for the nest by calculating the area within the loop. How many tiles are enclosed by the loop?"
   ]
  },
  {
   "cell_type": "code",
   "execution_count": 105,
   "metadata": {},
   "outputs": [],
   "source": [
    "def follow_and_save_pipes(grid):\n",
    "    starting_point = find_starting_point(grid)\n",
    "    starting_neighbors = find_starting_neighbors(grid, starting_point)\n",
    "    total_locs = [starting_point, *starting_neighbors]\n",
    "    new_locs = [n for n in starting_neighbors]\n",
    "    previous_locs = [starting_point, starting_point]\n",
    "    counter = 1\n",
    "    while new_locs.count(new_locs[0]) < 2:\n",
    "        new_neighbours = [find_next_pipe(grid, loc, prev_loc) for loc, prev_loc in zip(new_locs, previous_locs)]\n",
    "        previous_locs = [l for l in new_locs]  # get new previous locs\n",
    "        new_locs = [l for l in new_neighbours] # get new locs\n",
    "        total_locs.extend(new_locs)\n",
    "        counter += 1 \n",
    "        \n",
    "    return total_locs"
   ]
  },
  {
   "cell_type": "code",
   "execution_count": 107,
   "metadata": {},
   "outputs": [
    {
     "data": {
      "text/plain": [
       "[['7', '-', 'F', '7', '-'],\n",
       " ['.', 'F', 'J', '|', '7'],\n",
       " ['S', 'J', 'L', 'L', '7'],\n",
       " ['|', 'F', '-', '-', 'J'],\n",
       " ['L', 'J', '.', 'L', 'J']]"
      ]
     },
     "execution_count": 107,
     "metadata": {},
     "output_type": "execute_result"
    }
   ],
   "source": [
    "example2"
   ]
  },
  {
   "cell_type": "code",
   "execution_count": 106,
   "metadata": {},
   "outputs": [
    {
     "data": {
      "text/plain": [
       "[(2, 0),\n",
       " (3, 0),\n",
       " (2, 1),\n",
       " (4, 0),\n",
       " (1, 1),\n",
       " (4, 1),\n",
       " (1, 2),\n",
       " (3, 1),\n",
       " (0, 2),\n",
       " (3, 2),\n",
       " (0, 3),\n",
       " (3, 3),\n",
       " (1, 3),\n",
       " (3, 4),\n",
       " (2, 3),\n",
       " (2, 4),\n",
       " (2, 4)]"
      ]
     },
     "execution_count": 106,
     "metadata": {},
     "output_type": "execute_result"
    }
   ],
   "source": [
    "follow_and_save_pipes(example2)"
   ]
  },
  {
   "cell_type": "code",
   "execution_count": 183,
   "metadata": {},
   "outputs": [],
   "source": [
    "def check_if_in(grid, loc, pipe_loop_locs, up = True):\n",
    "    l, c = loc\n",
    "    if grid[l][c] in pipe_loop_locs:\n",
    "        return False\n",
    "    counter = 0\n",
    "    way = range(0,l) if up else range(l, len(grid))\n",
    "    for line in way: # recorro hacia arriba o abajo\n",
    "        if (line, c) in pipe_loop_locs:\n",
    "            if grid[line][c] in '-FL': # cuento si es un pipe que conecta hacia la derecha\n",
    "                counter += 1 # cuento cada vez que cruzo el loop\n",
    "    return (counter % 2 != 0)"
   ]
  },
  {
   "cell_type": "code",
   "execution_count": 169,
   "metadata": {},
   "outputs": [],
   "source": [
    "from tqdm import tqdm"
   ]
  },
  {
   "cell_type": "code",
   "execution_count": 189,
   "metadata": {},
   "outputs": [],
   "source": [
    "def get_status_for_loc(grid):\n",
    "    counter = 0\n",
    "    len_grid = len(grid)\n",
    "    loop_locs = follow_and_save_pipes(grid)\n",
    "    for l in tqdm(range(len_grid), total = len_grid, desc = 'l: '):\n",
    "        len_line = range(len(grid[l]))\n",
    "        for c in len_line:\n",
    "            if (l,c) not in loop_locs:\n",
    "                if l < len_grid / 2:\n",
    "                    counter += check_if_in(grid, (l,c), loop_locs, up = True)\n",
    "                else:\n",
    "                    counter += check_if_in(grid, (l,c), loop_locs, up = False)\n",
    "    return counter"
   ]
  },
  {
   "cell_type": "code",
   "execution_count": 196,
   "metadata": {},
   "outputs": [
    {
     "name": "stderr",
     "output_type": "stream",
     "text": [
      "l: 100%|██████████| 10/10 [00:00<00:00, 8912.67it/s]\n"
     ]
    },
    {
     "data": {
      "text/plain": [
       "8"
      ]
     },
     "execution_count": 196,
     "metadata": {},
     "output_type": "execute_result"
    }
   ],
   "source": [
    "example3_raw = '''.F----7F7F7F7F-7....\n",
    ".|F--7||||||||FJ....\n",
    ".||.FJ||||||||L7....\n",
    "FJL7L7LJLJ||LJ.L-7..\n",
    "L--J.L7...LJS7F-7L7.\n",
    "....F-J..F7FJ|L7L7L7\n",
    "....L7.F7||L7|.L7L7|\n",
    ".....|FJLJ|FJ|F7|.LJ\n",
    "....FJL-7.||.||||...\n",
    "....L---J.LJ.LJLJ...'''\n",
    "example3 = pre_process(example3_raw)\n",
    "r = get_status_for_loc(example3)\n",
    "r"
   ]
  },
  {
   "cell_type": "code",
   "execution_count": 190,
   "metadata": {},
   "outputs": [
    {
     "name": "stderr",
     "output_type": "stream",
     "text": [
      "l:   0%|          | 0/141 [00:00<?, ?it/s]"
     ]
    },
    {
     "name": "stderr",
     "output_type": "stream",
     "text": [
      "l: 100%|██████████| 141/141 [00:35<00:00,  4.01it/s]\n"
     ]
    }
   ],
   "source": [
    "s = get_status_for_loc(problem_input)"
   ]
  },
  {
   "cell_type": "code",
   "execution_count": 191,
   "metadata": {},
   "outputs": [
    {
     "data": {
      "text/plain": [
       "401"
      ]
     },
     "execution_count": 191,
     "metadata": {},
     "output_type": "execute_result"
    }
   ],
   "source": [
    "s"
   ]
  }
 ],
 "metadata": {
  "kernelspec": {
   "display_name": "AoC",
   "language": "python",
   "name": "python3"
  },
  "language_info": {
   "codemirror_mode": {
    "name": "ipython",
    "version": 3
   },
   "file_extension": ".py",
   "mimetype": "text/x-python",
   "name": "python",
   "nbconvert_exporter": "python",
   "pygments_lexer": "ipython3",
   "version": "3.9.18"
  },
  "orig_nbformat": 4
 },
 "nbformat": 4,
 "nbformat_minor": 2
}

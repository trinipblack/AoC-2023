{
 "cells": [
  {
   "cell_type": "markdown",
   "metadata": {},
   "source": []
  },
  {
   "cell_type": "markdown",
   "metadata": {},
   "source": [
    "## --- Day 8: Haunted Wasteland ---\n",
    "You're still riding a camel across Desert Island when you spot a sandstorm quickly approaching. When you turn to warn the Elf, she disappears before your eyes! To be fair, she had just finished warning you about ghosts a few minutes ago.\n",
    "\n",
    "One of the camel's pouches is labeled \"maps\" - sure enough, it's full of documents (your puzzle input) about how to navigate the desert. At least, you're pretty sure that's what they are; one of the documents contains a list of left/right instructions, and the rest of the documents seem to describe some kind of network of labeled nodes.\n",
    "\n",
    "It seems like you're meant to use the left/right instructions to navigate the network. Perhaps if you have the camel follow the same instructions, you can escape the haunted wasteland!\n",
    "\n",
    "After examining the maps for a bit, two nodes stick out: AAA and ZZZ. You feel like AAA is where you are now, and you have to follow the left/right instructions until you reach ZZZ.\n",
    "\n",
    "This format defines each node of the network individually. For example:\n",
    "\n",
    "RL\n",
    "\n",
    "AAA = (BBB, CCC)\n",
    "BBB = (DDD, EEE)\n",
    "CCC = (ZZZ, GGG)\n",
    "DDD = (DDD, DDD)\n",
    "EEE = (EEE, EEE)\n",
    "GGG = (GGG, GGG)\n",
    "ZZZ = (ZZZ, ZZZ)\n",
    "Starting with AAA, you need to look up the next element based on the next left/right instruction in your input. In this example, start with AAA and go right (R) by choosing the right element of AAA, CCC. Then, L means to choose the left element of CCC, ZZZ. By following the left/right instructions, you reach ZZZ in 2 steps.\n",
    "\n",
    "Of course, you might not find ZZZ right away. If you run out of left/right instructions, repeat the whole sequence of instructions as necessary: RL really means RLRLRLRLRLRLRLRL... and so on. For example, here is a situation that takes 6 steps to reach ZZZ:\n",
    "\n",
    "LLR\n",
    "\n",
    "AAA = (BBB, BBB)\n",
    "BBB = (AAA, ZZZ)\n",
    "ZZZ = (ZZZ, ZZZ)\n",
    "Starting at AAA, follow the left/right instructions. How many steps are required to reach ZZZ?"
   ]
  },
  {
   "cell_type": "code",
   "execution_count": 35,
   "metadata": {},
   "outputs": [],
   "source": [
    "def show_preview(dict_input, top):\n",
    "    return dict(list(dict_input.items())[:top])"
   ]
  },
  {
   "cell_type": "code",
   "execution_count": 2,
   "metadata": {},
   "outputs": [
    {
     "name": "stdout",
     "output_type": "stream",
     "text": [
      "LRLRLLRLLRRRLRLLRRLRLRRLRRLLLLRRLLRLRRLRRLRLRLRRLRLLRLRLRLRRRLLRLRLRLRRLRRLRRRLRRLRRLRRLRRLRRRLRRLRLLRLLRRRLRLRLLRRRLLRRLLLLRLRRRLLRLRLRRLRRRLRLRRLRLRRLLRLRRLLRLLRRLRLLRLLRRLRRRLLRRLRLRLRRLRRLRRRLRRLRRRLLRRLRLRRRLRRRLRLRRRLRRLRRLRRLRRRLRRLRLRRRLRLRRLLRRLRRRLRLRRRLLRLRRRLRRRLRLRLRRRLLRRLLRLRRRLRRLRRRLLLRRRR\n",
      "\n",
      "FTX = (VVM, VVM)\n",
      "LNR = (DQG, CMF)\n",
      "NXS = (TKM, FPB)\n",
      "FQF = (HDC, NFB)\n",
      "SPH = (MQB, XFB)\n",
      "FDL = (CTR, NXS)\n",
      "DMF = (VHG, LJV)\n",
      "JBP = (CKR, VBF)\n",
      "MMK = (JVC, NSS)\n",
      "LLT = (MVP, QFC)\n",
      "VVN = (SHF, XMN)\n",
      "CRR \n"
     ]
    }
   ],
   "source": [
    "with open('../inputs/day-8.txt') as f:\n",
    "    raw_input = f.read()\n",
    "print(raw_input[:500])"
   ]
  },
  {
   "cell_type": "code",
   "execution_count": 40,
   "metadata": {},
   "outputs": [],
   "source": [
    "example1 = '''RL\n",
    "\n",
    "AAA = (BBB, CCC)\n",
    "BBB = (DDD, EEE)\n",
    "CCC = (ZZZ, GGG)\n",
    "DDD = (DDD, DDD)\n",
    "EEE = (EEE, EEE)\n",
    "GGG = (GGG, GGG)\n",
    "ZZZ = (ZZZ, ZZZ)'''\n",
    "\n",
    "example2 = '''LLR\n",
    "\n",
    "AAA = (BBB, BBB)\n",
    "BBB = (AAA, ZZZ)\n",
    "ZZZ = (ZZZ, ZZZ)'''"
   ]
  },
  {
   "cell_type": "code",
   "execution_count": 65,
   "metadata": {},
   "outputs": [
    {
     "data": {
      "text/plain": [
       "['L', 'R', 'L', 'R', 'L', 'L', 'R', 'L', 'L', 'R']"
      ]
     },
     "execution_count": 65,
     "metadata": {},
     "output_type": "execute_result"
    }
   ],
   "source": [
    "def get_instructions(raw):\n",
    "    # instructions = [int(i) for i in raw.split('\\n')[0].replace('L', '0').replace('R', '1')]\n",
    "    instructions = [i for i in raw.split('\\n')[0]]\n",
    "    return instructions\n",
    "\n",
    "ex1_instructions = get_instructions(example1)\n",
    "ex2_instructions = get_instructions(example2)\n",
    "rl_instructions = get_instructions(raw_input)\n",
    "    \n",
    "rl_instructions[:10]"
   ]
  },
  {
   "cell_type": "code",
   "execution_count": 54,
   "metadata": {},
   "outputs": [
    {
     "data": {
      "text/plain": [
       "{'FTX': {'L': 'VVM', 'R': 'VVM'},\n",
       " 'LNR': {'L': 'DQG', 'R': 'CMF'},\n",
       " 'NXS': {'L': 'TKM', 'R': 'FPB'},\n",
       " 'FQF': {'L': 'HDC', 'R': 'NFB'},\n",
       " 'SPH': {'L': 'MQB', 'R': 'XFB'},\n",
       " 'FDL': {'L': 'CTR', 'R': 'NXS'},\n",
       " 'DMF': {'L': 'VHG', 'R': 'LJV'},\n",
       " 'JBP': {'L': 'CKR', 'R': 'VBF'},\n",
       " 'MMK': {'L': 'JVC', 'R': 'NSS'},\n",
       " 'LLT': {'L': 'MVP', 'R': 'QFC'}}"
      ]
     },
     "execution_count": 54,
     "metadata": {},
     "output_type": "execute_result"
    }
   ],
   "source": [
    "def get_node_map(raw):\n",
    "    node_map_list = raw.split('\\n')[2:]\n",
    "    node_map_dict = {i.split(' = ')[0] : \n",
    "        {'L' : i.split(' = ')[1].split(', ')[0].replace('(', ''), \n",
    "        'R' : i.split(' = ')[1].split(', ')[1].replace(')', '')\n",
    "        }\n",
    "        for i in node_map_list}\n",
    "    return node_map_dict\n",
    "\n",
    "node_map_ex1 = get_node_map(example1)\n",
    "node_map_ex2 = get_node_map(example2)\n",
    "node_map = get_node_map(raw_input)\n",
    "show_preview(node_map, 10)"
   ]
  },
  {
   "cell_type": "code",
   "execution_count": 57,
   "metadata": {},
   "outputs": [],
   "source": [
    "def get_next_key(d, key, instruction):\n",
    "    return d[key][instruction]\n",
    "\n",
    "def follow_instructions(node_map, instructions, start = 'AAA', end = 'ZZZ'):\n",
    "    key = start\n",
    "    counter = 0\n",
    "    step_counter = 0\n",
    "    while key != end:\n",
    "        key = get_next_key(node_map, key, instructions[counter])\n",
    "        counter += 1\n",
    "        step_counter += 1\n",
    "        if counter >= len(instructions):\n",
    "            counter = 0 # reiniciar\n",
    "        \n",
    "    return step_counter"
   ]
  },
  {
   "cell_type": "code",
   "execution_count": 58,
   "metadata": {},
   "outputs": [
    {
     "data": {
      "text/plain": [
       "2"
      ]
     },
     "execution_count": 58,
     "metadata": {},
     "output_type": "execute_result"
    }
   ],
   "source": [
    "follow_instructions(node_map_ex1, ex1_instructions)"
   ]
  },
  {
   "cell_type": "code",
   "execution_count": 59,
   "metadata": {},
   "outputs": [
    {
     "data": {
      "text/plain": [
       "6"
      ]
     },
     "execution_count": 59,
     "metadata": {},
     "output_type": "execute_result"
    }
   ],
   "source": [
    "follow_instructions(node_map_ex2, ex2_instructions)"
   ]
  },
  {
   "cell_type": "code",
   "execution_count": 60,
   "metadata": {},
   "outputs": [
    {
     "data": {
      "text/plain": [
       "20569"
      ]
     },
     "execution_count": 60,
     "metadata": {},
     "output_type": "execute_result"
    }
   ],
   "source": [
    "follow_instructions(node_map, rl_instructions)"
   ]
  },
  {
   "cell_type": "markdown",
   "metadata": {},
   "source": [
    "## --- Part Two ---\n",
    "The sandstorm is upon you and you aren't any closer to escaping the wasteland. You had the camel follow the instructions, but you've barely left your starting position. It's going to take significantly more steps to escape!\n",
    "\n",
    "What if the map isn't for people - what if the map is for ghosts? Are ghosts even bound by the laws of spacetime? Only one way to find out.\n",
    "\n",
    "After examining the maps a bit longer, your attention is drawn to a curious fact: the number of nodes with names ending in A is equal to the number ending in Z! If you were a ghost, you'd probably just start at every node that ends with A and follow all of the paths at the same time until they all simultaneously end up at nodes that end with Z.\n",
    "\n",
    "For example:\n",
    "\n",
    "LR\n",
    "\n",
    "11A = (11B, XXX)\n",
    "11B = (XXX, 11Z)\n",
    "11Z = (11B, XXX)\n",
    "22A = (22B, XXX)\n",
    "22B = (22C, 22C)\n",
    "22C = (22Z, 22Z)\n",
    "22Z = (22B, 22B)\n",
    "XXX = (XXX, XXX)\n",
    "Here, there are two starting nodes, 11A and 22A (because they both end with A). As you follow each left/right instruction, use that instruction to simultaneously navigate away from both nodes you're currently on. Repeat this process until all of the nodes you're currently on end with Z. (If only some of the nodes you're on end with Z, they act like any other node and you continue as normal.) In this example, you would proceed as follows:\n",
    "\n",
    "Step 0: You are at 11A and 22A.\n",
    "Step 1: You choose all of the left paths, leading you to 11B and 22B.\n",
    "Step 2: You choose all of the right paths, leading you to 11Z and 22C.\n",
    "Step 3: You choose all of the left paths, leading you to 11B and 22Z.\n",
    "Step 4: You choose all of the right paths, leading you to 11Z and 22B.\n",
    "Step 5: You choose all of the left paths, leading you to 11B and 22C.\n",
    "Step 6: You choose all of the right paths, leading you to 11Z and 22Z.\n",
    "So, in this example, you end up entirely on nodes that end in Z after 6 steps.\n",
    "\n",
    "Simultaneously start on every node that ends with A. How many steps does it take before you're only on nodes that end with Z?"
   ]
  },
  {
   "cell_type": "code",
   "execution_count": 67,
   "metadata": {},
   "outputs": [
    {
     "data": {
      "text/plain": [
       "{'11A': {'L': '11B', 'R': 'XXX'},\n",
       " '11B': {'L': 'XXX', 'R': '11Z'},\n",
       " '11Z': {'L': '11B', 'R': 'XXX'},\n",
       " '22A': {'L': '22B', 'R': 'XXX'},\n",
       " '22B': {'L': '22C', 'R': '22C'},\n",
       " '22C': {'L': '22Z', 'R': '22Z'},\n",
       " '22Z': {'L': '22B', 'R': '22B'},\n",
       " 'XXX': {'L': 'XXX', 'R': 'XXX'}}"
      ]
     },
     "execution_count": 67,
     "metadata": {},
     "output_type": "execute_result"
    }
   ],
   "source": [
    "example3 = '''LR\n",
    "\n",
    "11A = (11B, XXX)\n",
    "11B = (XXX, 11Z)\n",
    "11Z = (11B, XXX)\n",
    "22A = (22B, XXX)\n",
    "22B = (22C, 22C)\n",
    "22C = (22Z, 22Z)\n",
    "22Z = (22B, 22B)\n",
    "XXX = (XXX, XXX)'''\n",
    "\n",
    "node_map_ex3 = get_node_map(example3)\n",
    "ex3_instructions = get_instructions(example3)\n",
    "node_map_ex3"
   ]
  },
  {
   "cell_type": "code",
   "execution_count": 131,
   "metadata": {},
   "outputs": [],
   "source": [
    "def get_nodes_ending_in_A(node_map_dict):\n",
    "    return [k for k in node_map_dict.keys() if k.endswith('A')]\n",
    "\n",
    "nA_ex3 = get_nodes_ending_in_A(node_map_ex3)\n",
    "nA = get_nodes_ending_in_A(node_map)"
   ]
  },
  {
   "cell_type": "code",
   "execution_count": 120,
   "metadata": {},
   "outputs": [
    {
     "data": {
      "text/plain": [
       "(['11A', '22A'], ['STA', 'AAA', 'GPA', 'LKA', 'DFA', 'KKA'])"
      ]
     },
     "execution_count": 120,
     "metadata": {},
     "output_type": "execute_result"
    }
   ],
   "source": [
    "nA_ex3, nA"
   ]
  },
  {
   "cell_type": "code",
   "execution_count": 151,
   "metadata": {},
   "outputs": [],
   "source": [
    "def follow_ghost_instructions(node_map_dict, instructions):\n",
    "    counter = 0\n",
    "    step_counter = 0\n",
    "    starting_nodes = get_nodes_ending_in_A(node_map_dict)\n",
    "    condition = all([node.endswith('Z') for node in starting_nodes])\n",
    "    while (not condition) or (step_counter < 20):\n",
    "        new_starting_nodes = []\n",
    "        for key in starting_nodes:\n",
    "            key = get_next_key(node_map_dict, key, instructions[counter])\n",
    "            new_starting_nodes.append(key)\n",
    "        counter += 1\n",
    "        step_counter += 1\n",
    "        if counter >= len(instructions):\n",
    "            counter = 0 # reiniciar\n",
    "        starting_nodes = [node for node in new_starting_nodes]\n",
    "        condition = all([node.endswith('Z') for node in starting_nodes])\n",
    "        \n",
    "        \n",
    "def follow_ghost_instructions_single_node(node, node_map,  instructions):\n",
    "    key = node\n",
    "    counter = 0\n",
    "    step_counter = 0\n",
    "    while not key.endswith('Z'):\n",
    "        key = get_next_key(node_map, key, instructions[counter])\n",
    "        counter += 1\n",
    "        step_counter += 1\n",
    "        if counter >= len(instructions):\n",
    "            counter = 0 # reiniciar\n",
    "\n",
    "        \n",
    "\n",
    "    return step_counter\n",
    "follow_ghost_instructions(node_map_ex3, ex3_instructions)"
   ]
  },
  {
   "cell_type": "code",
   "execution_count": 154,
   "metadata": {},
   "outputs": [],
   "source": [
    "get_to_Z_list = []\n",
    "for starting_node in nA:\n",
    "    get_to_Z_list.append(follow_ghost_instructions_single_node(starting_node, node_map, rl_instructions))\n",
    "    "
   ]
  },
  {
   "cell_type": "code",
   "execution_count": 155,
   "metadata": {},
   "outputs": [
    {
     "data": {
      "text/plain": [
       "[18113, 20569, 21797, 13201, 24253, 22411]"
      ]
     },
     "execution_count": 155,
     "metadata": {},
     "output_type": "execute_result"
    }
   ],
   "source": [
    "get_to_Z_list"
   ]
  },
  {
   "cell_type": "code",
   "execution_count": 158,
   "metadata": {},
   "outputs": [],
   "source": [
    "from math import lcm"
   ]
  },
  {
   "cell_type": "code",
   "execution_count": 159,
   "metadata": {},
   "outputs": [
    {
     "data": {
      "text/plain": [
       "21366921060721"
      ]
     },
     "execution_count": 159,
     "metadata": {},
     "output_type": "execute_result"
    }
   ],
   "source": [
    "lcm(*get_to_Z_list)"
   ]
  },
  {
   "cell_type": "code",
   "execution_count": null,
   "metadata": {},
   "outputs": [],
   "source": []
  }
 ],
 "metadata": {
  "kernelspec": {
   "display_name": "AoC",
   "language": "python",
   "name": "python3"
  },
  "language_info": {
   "codemirror_mode": {
    "name": "ipython",
    "version": 3
   },
   "file_extension": ".py",
   "mimetype": "text/x-python",
   "name": "python",
   "nbconvert_exporter": "python",
   "pygments_lexer": "ipython3",
   "version": "3.9.18"
  },
  "orig_nbformat": 4
 },
 "nbformat": 4,
 "nbformat_minor": 2
}
